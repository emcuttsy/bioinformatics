{
 "cells": [
  {
   "cell_type": "code",
   "execution_count": 1,
   "metadata": {},
   "outputs": [],
   "source": [
    "import os, shutil, gzip\n",
    "import csv"
   ]
  },
  {
   "cell_type": "markdown",
   "metadata": {},
   "source": [
    "# PULPy Helper\n",
    "\n",
    "This notebook is intended to help streamline working with PULpy. Using it you can:\n",
    "\n",
    "* rename input files according to PULpy's requirements\n",
    "* move input files from a provided directory to PULpy's input subdirectories\n",
    "* clear the PULpy working directory of input and output files\n",
    "* export input and output files from the PULpy working directory\n",
    "* run PULpy"
   ]
  },
  {
   "cell_type": "markdown",
   "metadata": {},
   "source": [
    "### Directories\n",
    "Provide the notebook with your PULpy working directory and the paths to your input and output directories, if relevant."
   ]
  },
  {
   "cell_type": "code",
   "execution_count": 2,
   "metadata": {},
   "outputs": [],
   "source": [
    "pulpyd = '/home/ecutts/PULpy/' #absolute path to PULpy directory\n",
    "idir = '/home/ecutts/Bacteroidetes/MAGs/' # absolute path to input directory\n",
    "odir = '' # absolute path to output directory"
   ]
  },
  {
   "cell_type": "markdown",
   "metadata": {},
   "source": [
    "# PULpy-prep\n",
    "\n",
    "Run the following cells to prepare a directory of input files for analysis by PULpy. The files will be copied to the appropriate PULpy input directories and renamed according to PULpy's naming conventions. You can choose to clear pre-existing input and output files within the PULpy working directory or to simply add your input files. The program identifies files to move by looking for .fna or .fna.gz files, which are required by PULpy even if using annotations.\n",
    "\n",
    "### Input directory requirements\n",
    "Your input directory should be either (1) a directory of directories, with each directory containing the files associated with a single genome or (2) a flat directory containing all of the files to be input. "
   ]
  },
  {
   "cell_type": "markdown",
   "metadata": {},
   "source": [
    "### Clear PULpy working directory first?\n",
    "Set `clear = True` if you would like all input and output files in the PULpy working directory to be deleted before adding your inputs."
   ]
  },
  {
   "cell_type": "code",
   "execution_count": 3,
   "metadata": {},
   "outputs": [],
   "source": [
    "clear = True # change to True if you wish to clear the PULpy working directory before import\n",
    "\n",
    "def cleardir(d):\n",
    "    for filename in os.listdir(d):\n",
    "        filepath = os.path.join(d, filename)\n",
    "        os.remove(filepath)\n",
    "\n",
    "def clearPULpy(pulpyd):\n",
    "    clear_dirs = ['dbcan', 'pfam', 'feature_table', 'genomes', 'proteins', 'puls']\n",
    "    os.chdir(pulpyd)\n",
    "    for d in os.listdir():\n",
    "        if d in clear_dirs:\n",
    "            cleardir(d)\n",
    "\n",
    "if clear: #if clear is True, then the PULpy output directories will be cleared\n",
    "    clearPULpy(pulpyd)"
   ]
  },
  {
   "cell_type": "code",
   "execution_count": 6,
   "metadata": {},
   "outputs": [],
   "source": [
    "os.chdir(idir)\n",
    "\n",
    "dd = False # Is the directory a directory of directories?\n",
    "for f in os.listdir():\n",
    "    if not os.path.isfile(f):\n",
    "        dd = True\n",
    "\n",
    "def find_fnas(d):\n",
    "    fnas = {}\n",
    "    for f in os.listdir(d):\n",
    "        split = f.split('.')[1] # splits used because IMG downloads use \".genes.fna\" as well as \".fna\"\n",
    "        if f.endswith('.fna.gz'): # favor .fna.gz files over .fna\n",
    "            idd = f.split('.fna.gz')[0]\n",
    "            fnas[idd] = f\n",
    "        elif split == 'fna':\n",
    "            idd = f.split('.fna')[0]\n",
    "            fnas[idd] = f\n",
    "    return fnas\n",
    "        \n",
    "def find_files(d, ids):\n",
    "    gffs = {}\n",
    "    faas = {}\n",
    "    for f in os.listdir(d):\n",
    "        idd = f.split('.')[0]\n",
    "        if idd in ids:\n",
    "            if f.endswith('.gff'):\n",
    "                gffs[idd] = f\n",
    "            elif f.endswith('.faa'): #IMG protein fastas end in .genes.faa, this may be changed for others\n",
    "                faas[idd] = f\n",
    "    return gffs, faas\n",
    "\n",
    "\n",
    "# get list of files to move (relative paths to idir)\n",
    "if dd == False:\n",
    "    fnas = find_fnas(idir)\n",
    "    ids = fnas.keys()\n",
    "    files = dict.fromkeys(ids)\n",
    "    found  = find_files(idir, ids)\n",
    "    for idd in files.keys():\n",
    "        files[idd] = [fnas[idd], found[0][idd],found[1][idd]]\n",
    "    \n",
    "else:\n",
    "    files = {}\n",
    "    \n",
    "    for d in os.listdir():\n",
    "        fna = find_fnas(d)\n",
    "        idd = list(fna.keys())[0]\n",
    "        files[idd] = [d + '/' + f for f in fna.values()] # add .fna to file list\n",
    "        \n",
    "        found = find_files(d, idd)\n",
    "        files[idd].append(d + '/' + found[0][idd])\n",
    "        files[idd].append(d + '/' + found[1][idd])\n",
    "    \n",
    "for idd in files.keys():\n",
    "    if not os.path.exists(os.path.join(pulpyd, 'genomes/')):\n",
    "        os.makedirs(os.path.join(pulpyd, 'genomes/'))\n",
    "    if not os.path.exists(os.path.join(pulpyd, 'proteins/')):\n",
    "        os.makedirs(os.path.join(pulpyd, 'proteins/'))\n",
    "    \n",
    "    arr = files[idd]\n",
    "    if arr[0].endswith('.fna.gz'):\n",
    "        shutil.copy(arr[0], os.path.join(pulpyd, 'genomes/' + idd + '_genomic.fna.gz'))\n",
    "    else: # if a .fna file was provided, then compress to .fna.gz\n",
    "        with open(arr[0], 'rb') as f_in:\n",
    "            with gzip.open(os.path.join(pulpyd, 'genomes/' + idd + '_genomic.fna.gz'), 'wb') as f_out:\n",
    "                shutil.copyfileobj(f_in, f_out)\n",
    "    shutil.copy(arr[1], os.path.join(pulpyd, 'proteins/' + idd + '_protein.faa'))\n",
    "    shutil.copy(arr[2], os.path.join(pulpyd, 'proteins/' + idd + '.gff'))"
   ]
  },
  {
   "cell_type": "code",
   "execution_count": null,
   "metadata": {},
   "outputs": [],
   "source": []
  },
  {
   "cell_type": "code",
   "execution_count": null,
   "metadata": {},
   "outputs": [],
   "source": []
  }
 ],
 "metadata": {
  "kernelspec": {
   "display_name": "Python 3",
   "language": "python",
   "name": "python3"
  },
  "language_info": {
   "codemirror_mode": {
    "name": "ipython",
    "version": 3
   },
   "file_extension": ".py",
   "mimetype": "text/x-python",
   "name": "python",
   "nbconvert_exporter": "python",
   "pygments_lexer": "ipython3",
   "version": "3.6.12"
  }
 },
 "nbformat": 4,
 "nbformat_minor": 4
}
