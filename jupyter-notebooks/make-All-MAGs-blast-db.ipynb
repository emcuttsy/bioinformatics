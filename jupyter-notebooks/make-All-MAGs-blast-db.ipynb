{
 "cells": [
  {
   "cell_type": "code",
   "execution_count": 3,
   "metadata": {},
   "outputs": [],
   "source": [
    "import os\n",
    "from subprocess import run\n",
    "from subprocess import PIPE"
   ]
  },
  {
   "cell_type": "code",
   "execution_count": 4,
   "metadata": {},
   "outputs": [],
   "source": [
    "blast = '/cm/shared/engaging/ncbi-blast/2.6.0+/bin/'"
   ]
  },
  {
   "cell_type": "code",
   "execution_count": 6,
   "metadata": {},
   "outputs": [],
   "source": [
    "os.chdir('/home/ecutts/Shark-Bay-MAGs/')"
   ]
  },
  {
   "cell_type": "code",
   "execution_count": 7,
   "metadata": {
    "scrolled": true
   },
   "outputs": [
    {
     "data": {
      "text/plain": [
       "['SB_biofilm_MAG_58.fa',\n",
       " 'SB_biofilm_MAG_4.fa',\n",
       " 'SB_biofilm_MAG_48.fa',\n",
       " 'SB_biofilm_MAG_19.fa',\n",
       " 'SB_biofilm_MAG_39.fa',\n",
       " 'SB_biofilm_MAG_68.fa',\n",
       " 'SB_biofilm_MAG_78.fa',\n",
       " 'SB_biofilm_MAG_29.fa',\n",
       " 'SB_biofilm_MAG_38.fa',\n",
       " 'SB_biofilm_MAG_69.fa',\n",
       " 'SB_biofilm_MAG_1.fa',\n",
       " 'SB_biofilm_MAG_79.fa',\n",
       " 'SB_biofilm_MAG_28.fa',\n",
       " 'SB_biofilm_MAG_59.fa',\n",
       " 'SB_biofilm_MAG_5.fa',\n",
       " 'SB_biofilm_MAG_49.fa',\n",
       " 'SB_biofilm_MAG_18.fa',\n",
       " 'SB_biofilm_MAG_66.fa',\n",
       " 'SB_biofilm_MAG_37.fa',\n",
       " 'SB_biofilm_MAG_52.fa',\n",
       " 'SB_biofilm_MAG_42.fa',\n",
       " 'SB_biofilm_MAG_13.fa',\n",
       " 'SB_biofilm_MAG_27.fa',\n",
       " 'SB_biofilm_MAG_76.fa',\n",
       " 'SB_biofilm_MAG_56.fa',\n",
       " 'SB_biofilm_MAG_33.fa',\n",
       " 'SB_biofilm_MAG_62.fa',\n",
       " 'SB_biofilm_MAG_81.fa',\n",
       " 'SB_biofilm_MAG_72.fa',\n",
       " 'SB_biofilm_MAG_23.fa',\n",
       " 'SB_biofilm_MAG_17.fa',\n",
       " 'SB_biofilm_MAG_46.fa',\n",
       " 'SB_biofilm_MAG_57.fa',\n",
       " 'SB_biofilm_MAG_32.fa',\n",
       " 'SB_biofilm_MAG_63.fa',\n",
       " 'SB_biofilm_MAG_80.fa',\n",
       " 'SB_biofilm_MAG_73.fa',\n",
       " 'SB_biofilm_MAG_22.fa',\n",
       " 'SB_biofilm_MAG_16.fa',\n",
       " 'SB_biofilm_MAG_47.fa',\n",
       " 'SB_biofilm_MAG_67.fa',\n",
       " 'SB_biofilm_MAG_36.fa',\n",
       " 'SB_biofilm_MAG_53.fa',\n",
       " 'SB_biofilm_MAG_43.fa',\n",
       " 'SB_biofilm_MAG_12.fa',\n",
       " 'SB_biofilm_MAG_84.fa',\n",
       " 'SB_biofilm_MAG_26.fa',\n",
       " 'SB_biofilm_MAG_77.fa',\n",
       " 'SB_biofilm_MAG_8.fa',\n",
       " 'SB_biofilm_MAG_54.fa',\n",
       " 'SB_biofilm_MAG_60.fa',\n",
       " 'SB_biofilm_MAG_31.fa',\n",
       " 'SB_biofilm_MAG_21.fa',\n",
       " 'SB_biofilm_MAG_70.fa',\n",
       " 'SB_biofilm_MAG_83.fa',\n",
       " 'SB_biofilm_MAG_44.fa',\n",
       " 'SB_biofilm_MAG_15.fa',\n",
       " 'SB_biofilm_MAG_35.fa',\n",
       " 'SB_biofilm_MAG_64.fa',\n",
       " 'SB_biofilm_MAG_50.fa',\n",
       " 'SB_biofilm_MAG_11.fa',\n",
       " 'SB_biofilm_MAG_40.fa',\n",
       " 'SB_biofilm_MAG_74.fa',\n",
       " 'SB_biofilm_MAG_25.fa',\n",
       " 'SB_biofilm_MAG_34.fa',\n",
       " 'SB_biofilm_MAG_65.fa',\n",
       " 'SB_biofilm_MAG_51.fa',\n",
       " 'SB_biofilm_MAG_10.fa',\n",
       " 'SB_biofilm_MAG_41.fa',\n",
       " 'SB_biofilm_MAG_75.fa',\n",
       " 'SB_biofilm_MAG_24.fa',\n",
       " 'SB_biofilm_MAG_9.fa',\n",
       " 'SB_biofilm_MAG_55.fa',\n",
       " 'SB_biofilm_MAG_61.fa',\n",
       " 'SB_biofilm_MAG_30.fa',\n",
       " 'SB_biofilm_MAG_20.fa',\n",
       " 'SB_biofilm_MAG_71.fa',\n",
       " 'SB_biofilm_MAG_82.fa',\n",
       " 'SB_biofilm_MAG_45.fa',\n",
       " 'SB_biofilm_MAG_14.fa',\n",
       " 'SB_biofilm_MAG_2.fa',\n",
       " 'SB_biofilm_MAG_6.fa',\n",
       " 'SB_biofilm_MAG_7.fa',\n",
       " 'SB_biofilm_MAG_3.fa']"
      ]
     },
     "execution_count": 7,
     "metadata": {},
     "output_type": "execute_result"
    }
   ],
   "source": [
    "os.listdir()"
   ]
  },
  {
   "cell_type": "code",
   "execution_count": 8,
   "metadata": {
    "scrolled": true
   },
   "outputs": [
    {
     "name": "stdout",
     "output_type": "stream",
     "text": [
      "(CompletedProcess(args=['/cm/shared/engaging/ncbi-blast/2.6.0+/bin/makeblastdb', '-in', 'SB_biofilm_MAG_58.fa', '-parse_seqids', '-dbtype', 'nucl', '-out', 'SB_biofilm_MAG_58.fa'], returncode=0, stdout='\\n\\nBuilding a new DB, current time: 12/28/2020 16:11:33\\nNew DB name:   /home/ecutts/Shark-Bay-MAGs/SB_biofilm_MAG_58.fa\\nNew DB title:  SB_biofilm_MAG_58.fa\\nSequence type: Nucleotide\\nKeep MBits: T\\nMaximum file size: 1000000000B\\nAdding sequences from FASTA; added 513 sequences in 0.134027 seconds.\\n'),)\n",
      "(CompletedProcess(args=['/cm/shared/engaging/ncbi-blast/2.6.0+/bin/makeblastdb', '-in', 'SB_biofilm_MAG_4.fa', '-parse_seqids', '-dbtype', 'nucl', '-out', 'SB_biofilm_MAG_4.fa'], returncode=0, stdout='\\n\\nBuilding a new DB, current time: 12/28/2020 16:11:34\\nNew DB name:   /home/ecutts/Shark-Bay-MAGs/SB_biofilm_MAG_4.fa\\nNew DB title:  SB_biofilm_MAG_4.fa\\nSequence type: Nucleotide\\nKeep MBits: T\\nMaximum file size: 1000000000B\\nAdding sequences from FASTA; added 85 sequences in 0.178781 seconds.\\n'),)\n",
      "(CompletedProcess(args=['/cm/shared/engaging/ncbi-blast/2.6.0+/bin/makeblastdb', '-in', 'SB_biofilm_MAG_48.fa', '-parse_seqids', '-dbtype', 'nucl', '-out', 'SB_biofilm_MAG_48.fa'], returncode=0, stdout='\\n\\nBuilding a new DB, current time: 12/28/2020 16:11:34\\nNew DB name:   /home/ecutts/Shark-Bay-MAGs/SB_biofilm_MAG_48.fa\\nNew DB title:  SB_biofilm_MAG_48.fa\\nSequence type: Nucleotide\\nKeep MBits: T\\nMaximum file size: 1000000000B\\nAdding sequences from FASTA; added 457 sequences in 0.20898 seconds.\\n'),)\n",
      "(CompletedProcess(args=['/cm/shared/engaging/ncbi-blast/2.6.0+/bin/makeblastdb', '-in', 'SB_biofilm_MAG_19.fa', '-parse_seqids', '-dbtype', 'nucl', '-out', 'SB_biofilm_MAG_19.fa'], returncode=0, stdout='\\n\\nBuilding a new DB, current time: 12/28/2020 16:11:34\\nNew DB name:   /home/ecutts/Shark-Bay-MAGs/SB_biofilm_MAG_19.fa\\nNew DB title:  SB_biofilm_MAG_19.fa\\nSequence type: Nucleotide\\nKeep MBits: T\\nMaximum file size: 1000000000B\\nAdding sequences from FASTA; added 20 sequences in 0.138086 seconds.\\n'),)\n",
      "(CompletedProcess(args=['/cm/shared/engaging/ncbi-blast/2.6.0+/bin/makeblastdb', '-in', 'SB_biofilm_MAG_39.fa', '-parse_seqids', '-dbtype', 'nucl', '-out', 'SB_biofilm_MAG_39.fa'], returncode=0, stdout='\\n\\nBuilding a new DB, current time: 12/28/2020 16:11:34\\nNew DB name:   /home/ecutts/Shark-Bay-MAGs/SB_biofilm_MAG_39.fa\\nNew DB title:  SB_biofilm_MAG_39.fa\\nSequence type: Nucleotide\\nKeep MBits: T\\nMaximum file size: 1000000000B\\nAdding sequences from FASTA; added 275 sequences in 0.1301 seconds.\\n'),)\n",
      "(CompletedProcess(args=['/cm/shared/engaging/ncbi-blast/2.6.0+/bin/makeblastdb', '-in', 'SB_biofilm_MAG_68.fa', '-parse_seqids', '-dbtype', 'nucl', '-out', 'SB_biofilm_MAG_68.fa'], returncode=0, stdout='\\n\\nBuilding a new DB, current time: 12/28/2020 16:11:35\\nNew DB name:   /home/ecutts/Shark-Bay-MAGs/SB_biofilm_MAG_68.fa\\nNew DB title:  SB_biofilm_MAG_68.fa\\nSequence type: Nucleotide\\nKeep MBits: T\\nMaximum file size: 1000000000B\\nAdding sequences from FASTA; added 219 sequences in 0.134114 seconds.\\n'),)\n",
      "(CompletedProcess(args=['/cm/shared/engaging/ncbi-blast/2.6.0+/bin/makeblastdb', '-in', 'SB_biofilm_MAG_78.fa', '-parse_seqids', '-dbtype', 'nucl', '-out', 'SB_biofilm_MAG_78.fa'], returncode=0, stdout='\\n\\nBuilding a new DB, current time: 12/28/2020 16:11:35\\nNew DB name:   /home/ecutts/Shark-Bay-MAGs/SB_biofilm_MAG_78.fa\\nNew DB title:  SB_biofilm_MAG_78.fa\\nSequence type: Nucleotide\\nKeep MBits: T\\nMaximum file size: 1000000000B\\nAdding sequences from FASTA; added 424 sequences in 0.116508 seconds.\\n'),)\n",
      "(CompletedProcess(args=['/cm/shared/engaging/ncbi-blast/2.6.0+/bin/makeblastdb', '-in', 'SB_biofilm_MAG_29.fa', '-parse_seqids', '-dbtype', 'nucl', '-out', 'SB_biofilm_MAG_29.fa'], returncode=0, stdout='\\n\\nBuilding a new DB, current time: 12/28/2020 16:11:35\\nNew DB name:   /home/ecutts/Shark-Bay-MAGs/SB_biofilm_MAG_29.fa\\nNew DB title:  SB_biofilm_MAG_29.fa\\nSequence type: Nucleotide\\nKeep MBits: T\\nMaximum file size: 1000000000B\\nAdding sequences from FASTA; added 190 sequences in 0.108888 seconds.\\n'),)\n",
      "(CompletedProcess(args=['/cm/shared/engaging/ncbi-blast/2.6.0+/bin/makeblastdb', '-in', 'SB_biofilm_MAG_38.fa', '-parse_seqids', '-dbtype', 'nucl', '-out', 'SB_biofilm_MAG_38.fa'], returncode=0, stdout='\\n\\nBuilding a new DB, current time: 12/28/2020 16:11:35\\nNew DB name:   /home/ecutts/Shark-Bay-MAGs/SB_biofilm_MAG_38.fa\\nNew DB title:  SB_biofilm_MAG_38.fa\\nSequence type: Nucleotide\\nKeep MBits: T\\nMaximum file size: 1000000000B\\nAdding sequences from FASTA; added 232 sequences in 0.18863 seconds.\\n'),)\n",
      "(CompletedProcess(args=['/cm/shared/engaging/ncbi-blast/2.6.0+/bin/makeblastdb', '-in', 'SB_biofilm_MAG_69.fa', '-parse_seqids', '-dbtype', 'nucl', '-out', 'SB_biofilm_MAG_69.fa'], returncode=0, stdout='\\n\\nBuilding a new DB, current time: 12/28/2020 16:11:36\\nNew DB name:   /home/ecutts/Shark-Bay-MAGs/SB_biofilm_MAG_69.fa\\nNew DB title:  SB_biofilm_MAG_69.fa\\nSequence type: Nucleotide\\nKeep MBits: T\\nMaximum file size: 1000000000B\\nAdding sequences from FASTA; added 715 sequences in 0.182606 seconds.\\n'),)\n",
      "(CompletedProcess(args=['/cm/shared/engaging/ncbi-blast/2.6.0+/bin/makeblastdb', '-in', 'SB_biofilm_MAG_1.fa', '-parse_seqids', '-dbtype', 'nucl', '-out', 'SB_biofilm_MAG_1.fa'], returncode=0, stdout='\\n\\nBuilding a new DB, current time: 12/28/2020 16:11:36\\nNew DB name:   /home/ecutts/Shark-Bay-MAGs/SB_biofilm_MAG_1.fa\\nNew DB title:  SB_biofilm_MAG_1.fa\\nSequence type: Nucleotide\\nKeep MBits: T\\nMaximum file size: 1000000000B\\nAdding sequences from FASTA; added 48 sequences in 0.157781 seconds.\\n'),)\n",
      "(CompletedProcess(args=['/cm/shared/engaging/ncbi-blast/2.6.0+/bin/makeblastdb', '-in', 'SB_biofilm_MAG_79.fa', '-parse_seqids', '-dbtype', 'nucl', '-out', 'SB_biofilm_MAG_79.fa'], returncode=0, stdout='\\n\\nBuilding a new DB, current time: 12/28/2020 16:11:36\\nNew DB name:   /home/ecutts/Shark-Bay-MAGs/SB_biofilm_MAG_79.fa\\nNew DB title:  SB_biofilm_MAG_79.fa\\nSequence type: Nucleotide\\nKeep MBits: T\\nMaximum file size: 1000000000B\\nAdding sequences from FASTA; added 541 sequences in 0.07881 seconds.\\n'),)\n",
      "(CompletedProcess(args=['/cm/shared/engaging/ncbi-blast/2.6.0+/bin/makeblastdb', '-in', 'SB_biofilm_MAG_28.fa', '-parse_seqids', '-dbtype', 'nucl', '-out', 'SB_biofilm_MAG_28.fa'], returncode=0, stdout='\\n\\nBuilding a new DB, current time: 12/28/2020 16:11:36\\nNew DB name:   /home/ecutts/Shark-Bay-MAGs/SB_biofilm_MAG_28.fa\\nNew DB title:  SB_biofilm_MAG_28.fa\\nSequence type: Nucleotide\\nKeep MBits: T\\nMaximum file size: 1000000000B\\nAdding sequences from FASTA; added 320 sequences in 0.139166 seconds.\\n'),)\n",
      "(CompletedProcess(args=['/cm/shared/engaging/ncbi-blast/2.6.0+/bin/makeblastdb', '-in', 'SB_biofilm_MAG_59.fa', '-parse_seqids', '-dbtype', 'nucl', '-out', 'SB_biofilm_MAG_59.fa'], returncode=0, stdout='\\n\\nBuilding a new DB, current time: 12/28/2020 16:11:36\\nNew DB name:   /home/ecutts/Shark-Bay-MAGs/SB_biofilm_MAG_59.fa\\nNew DB title:  SB_biofilm_MAG_59.fa\\nSequence type: Nucleotide\\nKeep MBits: T\\nMaximum file size: 1000000000B\\nAdding sequences from FASTA; added 667 sequences in 0.25769 seconds.\\n'),)\n",
      "(CompletedProcess(args=['/cm/shared/engaging/ncbi-blast/2.6.0+/bin/makeblastdb', '-in', 'SB_biofilm_MAG_5.fa', '-parse_seqids', '-dbtype', 'nucl', '-out', 'SB_biofilm_MAG_5.fa'], returncode=0, stdout='\\n\\nBuilding a new DB, current time: 12/28/2020 16:11:37\\nNew DB name:   /home/ecutts/Shark-Bay-MAGs/SB_biofilm_MAG_5.fa\\nNew DB title:  SB_biofilm_MAG_5.fa\\nSequence type: Nucleotide\\nKeep MBits: T\\nMaximum file size: 1000000000B\\nAdding sequences from FASTA; added 107 sequences in 0.138945 seconds.\\n'),)\n",
      "(CompletedProcess(args=['/cm/shared/engaging/ncbi-blast/2.6.0+/bin/makeblastdb', '-in', 'SB_biofilm_MAG_49.fa', '-parse_seqids', '-dbtype', 'nucl', '-out', 'SB_biofilm_MAG_49.fa'], returncode=0, stdout='\\n\\nBuilding a new DB, current time: 12/28/2020 16:11:37\\nNew DB name:   /home/ecutts/Shark-Bay-MAGs/SB_biofilm_MAG_49.fa\\nNew DB title:  SB_biofilm_MAG_49.fa\\nSequence type: Nucleotide\\nKeep MBits: T\\nMaximum file size: 1000000000B\\nAdding sequences from FASTA; added 98 sequences in 0.0825162 seconds.\\n'),)\n",
      "(CompletedProcess(args=['/cm/shared/engaging/ncbi-blast/2.6.0+/bin/makeblastdb', '-in', 'SB_biofilm_MAG_18.fa', '-parse_seqids', '-dbtype', 'nucl', '-out', 'SB_biofilm_MAG_18.fa'], returncode=0, stdout='\\n\\nBuilding a new DB, current time: 12/28/2020 16:11:37\\nNew DB name:   /home/ecutts/Shark-Bay-MAGs/SB_biofilm_MAG_18.fa\\nNew DB title:  SB_biofilm_MAG_18.fa\\nSequence type: Nucleotide\\nKeep MBits: T\\nMaximum file size: 1000000000B\\nAdding sequences from FASTA; added 329 sequences in 0.0959821 seconds.\\n'),)\n"
     ]
    },
    {
     "name": "stdout",
     "output_type": "stream",
     "text": [
      "(CompletedProcess(args=['/cm/shared/engaging/ncbi-blast/2.6.0+/bin/makeblastdb', '-in', 'SB_biofilm_MAG_66.fa', '-parse_seqids', '-dbtype', 'nucl', '-out', 'SB_biofilm_MAG_66.fa'], returncode=0, stdout='\\n\\nBuilding a new DB, current time: 12/28/2020 16:11:37\\nNew DB name:   /home/ecutts/Shark-Bay-MAGs/SB_biofilm_MAG_66.fa\\nNew DB title:  SB_biofilm_MAG_66.fa\\nSequence type: Nucleotide\\nKeep MBits: T\\nMaximum file size: 1000000000B\\nAdding sequences from FASTA; added 391 sequences in 0.0937519 seconds.\\n'),)\n",
      "(CompletedProcess(args=['/cm/shared/engaging/ncbi-blast/2.6.0+/bin/makeblastdb', '-in', 'SB_biofilm_MAG_37.fa', '-parse_seqids', '-dbtype', 'nucl', '-out', 'SB_biofilm_MAG_37.fa'], returncode=0, stdout='\\n\\nBuilding a new DB, current time: 12/28/2020 16:11:37\\nNew DB name:   /home/ecutts/Shark-Bay-MAGs/SB_biofilm_MAG_37.fa\\nNew DB title:  SB_biofilm_MAG_37.fa\\nSequence type: Nucleotide\\nKeep MBits: T\\nMaximum file size: 1000000000B\\nAdding sequences from FASTA; added 94 sequences in 0.192519 seconds.\\n'),)\n",
      "(CompletedProcess(args=['/cm/shared/engaging/ncbi-blast/2.6.0+/bin/makeblastdb', '-in', 'SB_biofilm_MAG_52.fa', '-parse_seqids', '-dbtype', 'nucl', '-out', 'SB_biofilm_MAG_52.fa'], returncode=0, stdout='\\n\\nBuilding a new DB, current time: 12/28/2020 16:11:38\\nNew DB name:   /home/ecutts/Shark-Bay-MAGs/SB_biofilm_MAG_52.fa\\nNew DB title:  SB_biofilm_MAG_52.fa\\nSequence type: Nucleotide\\nKeep MBits: T\\nMaximum file size: 1000000000B\\nAdding sequences from FASTA; added 433 sequences in 0.135545 seconds.\\n'),)\n",
      "(CompletedProcess(args=['/cm/shared/engaging/ncbi-blast/2.6.0+/bin/makeblastdb', '-in', 'SB_biofilm_MAG_42.fa', '-parse_seqids', '-dbtype', 'nucl', '-out', 'SB_biofilm_MAG_42.fa'], returncode=0, stdout='\\n\\nBuilding a new DB, current time: 12/28/2020 16:11:38\\nNew DB name:   /home/ecutts/Shark-Bay-MAGs/SB_biofilm_MAG_42.fa\\nNew DB title:  SB_biofilm_MAG_42.fa\\nSequence type: Nucleotide\\nKeep MBits: T\\nMaximum file size: 1000000000B\\nAdding sequences from FASTA; added 368 sequences in 0.162582 seconds.\\n'),)\n",
      "(CompletedProcess(args=['/cm/shared/engaging/ncbi-blast/2.6.0+/bin/makeblastdb', '-in', 'SB_biofilm_MAG_13.fa', '-parse_seqids', '-dbtype', 'nucl', '-out', 'SB_biofilm_MAG_13.fa'], returncode=0, stdout='\\n\\nBuilding a new DB, current time: 12/28/2020 16:11:38\\nNew DB name:   /home/ecutts/Shark-Bay-MAGs/SB_biofilm_MAG_13.fa\\nNew DB title:  SB_biofilm_MAG_13.fa\\nSequence type: Nucleotide\\nKeep MBits: T\\nMaximum file size: 1000000000B\\nAdding sequences from FASTA; added 30 sequences in 0.0976551 seconds.\\n'),)\n",
      "(CompletedProcess(args=['/cm/shared/engaging/ncbi-blast/2.6.0+/bin/makeblastdb', '-in', 'SB_biofilm_MAG_27.fa', '-parse_seqids', '-dbtype', 'nucl', '-out', 'SB_biofilm_MAG_27.fa'], returncode=0, stdout='\\n\\nBuilding a new DB, current time: 12/28/2020 16:11:38\\nNew DB name:   /home/ecutts/Shark-Bay-MAGs/SB_biofilm_MAG_27.fa\\nNew DB title:  SB_biofilm_MAG_27.fa\\nSequence type: Nucleotide\\nKeep MBits: T\\nMaximum file size: 1000000000B\\nAdding sequences from FASTA; added 450 sequences in 0.159248 seconds.\\n'),)\n",
      "(CompletedProcess(args=['/cm/shared/engaging/ncbi-blast/2.6.0+/bin/makeblastdb', '-in', 'SB_biofilm_MAG_76.fa', '-parse_seqids', '-dbtype', 'nucl', '-out', 'SB_biofilm_MAG_76.fa'], returncode=0, stdout='\\n\\nBuilding a new DB, current time: 12/28/2020 16:11:39\\nNew DB name:   /home/ecutts/Shark-Bay-MAGs/SB_biofilm_MAG_76.fa\\nNew DB title:  SB_biofilm_MAG_76.fa\\nSequence type: Nucleotide\\nKeep MBits: T\\nMaximum file size: 1000000000B\\nAdding sequences from FASTA; added 856 sequences in 0.113397 seconds.\\n'),)\n",
      "(CompletedProcess(args=['/cm/shared/engaging/ncbi-blast/2.6.0+/bin/makeblastdb', '-in', 'SB_biofilm_MAG_56.fa', '-parse_seqids', '-dbtype', 'nucl', '-out', 'SB_biofilm_MAG_56.fa'], returncode=0, stdout='\\n\\nBuilding a new DB, current time: 12/28/2020 16:11:39\\nNew DB name:   /home/ecutts/Shark-Bay-MAGs/SB_biofilm_MAG_56.fa\\nNew DB title:  SB_biofilm_MAG_56.fa\\nSequence type: Nucleotide\\nKeep MBits: T\\nMaximum file size: 1000000000B\\nAdding sequences from FASTA; added 718 sequences in 0.184496 seconds.\\n'),)\n",
      "(CompletedProcess(args=['/cm/shared/engaging/ncbi-blast/2.6.0+/bin/makeblastdb', '-in', 'SB_biofilm_MAG_33.fa', '-parse_seqids', '-dbtype', 'nucl', '-out', 'SB_biofilm_MAG_33.fa'], returncode=0, stdout='\\n\\nBuilding a new DB, current time: 12/28/2020 16:11:39\\nNew DB name:   /home/ecutts/Shark-Bay-MAGs/SB_biofilm_MAG_33.fa\\nNew DB title:  SB_biofilm_MAG_33.fa\\nSequence type: Nucleotide\\nKeep MBits: T\\nMaximum file size: 1000000000B\\nAdding sequences from FASTA; added 143 sequences in 0.156628 seconds.\\n'),)\n",
      "(CompletedProcess(args=['/cm/shared/engaging/ncbi-blast/2.6.0+/bin/makeblastdb', '-in', 'SB_biofilm_MAG_62.fa', '-parse_seqids', '-dbtype', 'nucl', '-out', 'SB_biofilm_MAG_62.fa'], returncode=0, stdout='\\n\\nBuilding a new DB, current time: 12/28/2020 16:11:39\\nNew DB name:   /home/ecutts/Shark-Bay-MAGs/SB_biofilm_MAG_62.fa\\nNew DB title:  SB_biofilm_MAG_62.fa\\nSequence type: Nucleotide\\nKeep MBits: T\\nMaximum file size: 1000000000B\\nAdding sequences from FASTA; added 518 sequences in 0.0955472 seconds.\\n'),)\n",
      "(CompletedProcess(args=['/cm/shared/engaging/ncbi-blast/2.6.0+/bin/makeblastdb', '-in', 'SB_biofilm_MAG_81.fa', '-parse_seqids', '-dbtype', 'nucl', '-out', 'SB_biofilm_MAG_81.fa'], returncode=0, stdout='\\n\\nBuilding a new DB, current time: 12/28/2020 16:11:39\\nNew DB name:   /home/ecutts/Shark-Bay-MAGs/SB_biofilm_MAG_81.fa\\nNew DB title:  SB_biofilm_MAG_81.fa\\nSequence type: Nucleotide\\nKeep MBits: T\\nMaximum file size: 1000000000B\\nAdding sequences from FASTA; added 574 sequences in 0.0943379 seconds.\\n'),)\n",
      "(CompletedProcess(args=['/cm/shared/engaging/ncbi-blast/2.6.0+/bin/makeblastdb', '-in', 'SB_biofilm_MAG_72.fa', '-parse_seqids', '-dbtype', 'nucl', '-out', 'SB_biofilm_MAG_72.fa'], returncode=0, stdout='\\n\\nBuilding a new DB, current time: 12/28/2020 16:11:40\\nNew DB name:   /home/ecutts/Shark-Bay-MAGs/SB_biofilm_MAG_72.fa\\nNew DB title:  SB_biofilm_MAG_72.fa\\nSequence type: Nucleotide\\nKeep MBits: T\\nMaximum file size: 1000000000B\\nAdding sequences from FASTA; added 296 sequences in 0.160679 seconds.\\n'),)\n",
      "(CompletedProcess(args=['/cm/shared/engaging/ncbi-blast/2.6.0+/bin/makeblastdb', '-in', 'SB_biofilm_MAG_23.fa', '-parse_seqids', '-dbtype', 'nucl', '-out', 'SB_biofilm_MAG_23.fa'], returncode=0, stdout='\\n\\nBuilding a new DB, current time: 12/28/2020 16:11:40\\nNew DB name:   /home/ecutts/Shark-Bay-MAGs/SB_biofilm_MAG_23.fa\\nNew DB title:  SB_biofilm_MAG_23.fa\\nSequence type: Nucleotide\\nKeep MBits: T\\nMaximum file size: 1000000000B\\nAdding sequences from FASTA; added 255 sequences in 0.165093 seconds.\\n'),)\n",
      "(CompletedProcess(args=['/cm/shared/engaging/ncbi-blast/2.6.0+/bin/makeblastdb', '-in', 'SB_biofilm_MAG_17.fa', '-parse_seqids', '-dbtype', 'nucl', '-out', 'SB_biofilm_MAG_17.fa'], returncode=0, stdout='\\n\\nBuilding a new DB, current time: 12/28/2020 16:11:40\\nNew DB name:   /home/ecutts/Shark-Bay-MAGs/SB_biofilm_MAG_17.fa\\nNew DB title:  SB_biofilm_MAG_17.fa\\nSequence type: Nucleotide\\nKeep MBits: T\\nMaximum file size: 1000000000B\\nAdding sequences from FASTA; added 186 sequences in 0.190247 seconds.\\n'),)\n",
      "(CompletedProcess(args=['/cm/shared/engaging/ncbi-blast/2.6.0+/bin/makeblastdb', '-in', 'SB_biofilm_MAG_46.fa', '-parse_seqids', '-dbtype', 'nucl', '-out', 'SB_biofilm_MAG_46.fa'], returncode=0, stdout='\\n\\nBuilding a new DB, current time: 12/28/2020 16:11:40\\nNew DB name:   /home/ecutts/Shark-Bay-MAGs/SB_biofilm_MAG_46.fa\\nNew DB title:  SB_biofilm_MAG_46.fa\\nSequence type: Nucleotide\\nKeep MBits: T\\nMaximum file size: 1000000000B\\nAdding sequences from FASTA; added 663 sequences in 0.199492 seconds.\\n'),)\n",
      "(CompletedProcess(args=['/cm/shared/engaging/ncbi-blast/2.6.0+/bin/makeblastdb', '-in', 'SB_biofilm_MAG_57.fa', '-parse_seqids', '-dbtype', 'nucl', '-out', 'SB_biofilm_MAG_57.fa'], returncode=0, stdout='\\n\\nBuilding a new DB, current time: 12/28/2020 16:11:41\\nNew DB name:   /home/ecutts/Shark-Bay-MAGs/SB_biofilm_MAG_57.fa\\nNew DB title:  SB_biofilm_MAG_57.fa\\nSequence type: Nucleotide\\nKeep MBits: T\\nMaximum file size: 1000000000B\\nAdding sequences from FASTA; added 141 sequences in 0.109803 seconds.\\n'),)\n"
     ]
    },
    {
     "name": "stdout",
     "output_type": "stream",
     "text": [
      "(CompletedProcess(args=['/cm/shared/engaging/ncbi-blast/2.6.0+/bin/makeblastdb', '-in', 'SB_biofilm_MAG_32.fa', '-parse_seqids', '-dbtype', 'nucl', '-out', 'SB_biofilm_MAG_32.fa'], returncode=0, stdout='\\n\\nBuilding a new DB, current time: 12/28/2020 16:11:41\\nNew DB name:   /home/ecutts/Shark-Bay-MAGs/SB_biofilm_MAG_32.fa\\nNew DB title:  SB_biofilm_MAG_32.fa\\nSequence type: Nucleotide\\nKeep MBits: T\\nMaximum file size: 1000000000B\\nAdding sequences from FASTA; added 457 sequences in 0.132151 seconds.\\n'),)\n",
      "(CompletedProcess(args=['/cm/shared/engaging/ncbi-blast/2.6.0+/bin/makeblastdb', '-in', 'SB_biofilm_MAG_63.fa', '-parse_seqids', '-dbtype', 'nucl', '-out', 'SB_biofilm_MAG_63.fa'], returncode=0, stdout='\\n\\nBuilding a new DB, current time: 12/28/2020 16:11:41\\nNew DB name:   /home/ecutts/Shark-Bay-MAGs/SB_biofilm_MAG_63.fa\\nNew DB title:  SB_biofilm_MAG_63.fa\\nSequence type: Nucleotide\\nKeep MBits: T\\nMaximum file size: 1000000000B\\nAdding sequences from FASTA; added 105 sequences in 0.05762 seconds.\\n'),)\n",
      "(CompletedProcess(args=['/cm/shared/engaging/ncbi-blast/2.6.0+/bin/makeblastdb', '-in', 'SB_biofilm_MAG_80.fa', '-parse_seqids', '-dbtype', 'nucl', '-out', 'SB_biofilm_MAG_80.fa'], returncode=0, stdout='\\n\\nBuilding a new DB, current time: 12/28/2020 16:11:41\\nNew DB name:   /home/ecutts/Shark-Bay-MAGs/SB_biofilm_MAG_80.fa\\nNew DB title:  SB_biofilm_MAG_80.fa\\nSequence type: Nucleotide\\nKeep MBits: T\\nMaximum file size: 1000000000B\\nAdding sequences from FASTA; added 175 sequences in 0.03476 seconds.\\n'),)\n",
      "(CompletedProcess(args=['/cm/shared/engaging/ncbi-blast/2.6.0+/bin/makeblastdb', '-in', 'SB_biofilm_MAG_73.fa', '-parse_seqids', '-dbtype', 'nucl', '-out', 'SB_biofilm_MAG_73.fa'], returncode=0, stdout='\\n\\nBuilding a new DB, current time: 12/28/2020 16:11:41\\nNew DB name:   /home/ecutts/Shark-Bay-MAGs/SB_biofilm_MAG_73.fa\\nNew DB title:  SB_biofilm_MAG_73.fa\\nSequence type: Nucleotide\\nKeep MBits: T\\nMaximum file size: 1000000000B\\nAdding sequences from FASTA; added 730 sequences in 0.102028 seconds.\\n'),)\n",
      "(CompletedProcess(args=['/cm/shared/engaging/ncbi-blast/2.6.0+/bin/makeblastdb', '-in', 'SB_biofilm_MAG_22.fa', '-parse_seqids', '-dbtype', 'nucl', '-out', 'SB_biofilm_MAG_22.fa'], returncode=0, stdout='\\n\\nBuilding a new DB, current time: 12/28/2020 16:11:41\\nNew DB name:   /home/ecutts/Shark-Bay-MAGs/SB_biofilm_MAG_22.fa\\nNew DB title:  SB_biofilm_MAG_22.fa\\nSequence type: Nucleotide\\nKeep MBits: T\\nMaximum file size: 1000000000B\\nAdding sequences from FASTA; added 32 sequences in 0.101198 seconds.\\n'),)\n",
      "(CompletedProcess(args=['/cm/shared/engaging/ncbi-blast/2.6.0+/bin/makeblastdb', '-in', 'SB_biofilm_MAG_16.fa', '-parse_seqids', '-dbtype', 'nucl', '-out', 'SB_biofilm_MAG_16.fa'], returncode=0, stdout='\\n\\nBuilding a new DB, current time: 12/28/2020 16:11:42\\nNew DB name:   /home/ecutts/Shark-Bay-MAGs/SB_biofilm_MAG_16.fa\\nNew DB title:  SB_biofilm_MAG_16.fa\\nSequence type: Nucleotide\\nKeep MBits: T\\nMaximum file size: 1000000000B\\nAdding sequences from FASTA; added 374 sequences in 0.123355 seconds.\\n'),)\n",
      "(CompletedProcess(args=['/cm/shared/engaging/ncbi-blast/2.6.0+/bin/makeblastdb', '-in', 'SB_biofilm_MAG_47.fa', '-parse_seqids', '-dbtype', 'nucl', '-out', 'SB_biofilm_MAG_47.fa'], returncode=0, stdout='\\n\\nBuilding a new DB, current time: 12/28/2020 16:11:42\\nNew DB name:   /home/ecutts/Shark-Bay-MAGs/SB_biofilm_MAG_47.fa\\nNew DB title:  SB_biofilm_MAG_47.fa\\nSequence type: Nucleotide\\nKeep MBits: T\\nMaximum file size: 1000000000B\\nAdding sequences from FASTA; added 300 sequences in 0.188982 seconds.\\n'),)\n",
      "(CompletedProcess(args=['/cm/shared/engaging/ncbi-blast/2.6.0+/bin/makeblastdb', '-in', 'SB_biofilm_MAG_67.fa', '-parse_seqids', '-dbtype', 'nucl', '-out', 'SB_biofilm_MAG_67.fa'], returncode=0, stdout='\\n\\nBuilding a new DB, current time: 12/28/2020 16:11:42\\nNew DB name:   /home/ecutts/Shark-Bay-MAGs/SB_biofilm_MAG_67.fa\\nNew DB title:  SB_biofilm_MAG_67.fa\\nSequence type: Nucleotide\\nKeep MBits: T\\nMaximum file size: 1000000000B\\nAdding sequences from FASTA; added 388 sequences in 0.104046 seconds.\\n'),)\n",
      "(CompletedProcess(args=['/cm/shared/engaging/ncbi-blast/2.6.0+/bin/makeblastdb', '-in', 'SB_biofilm_MAG_36.fa', '-parse_seqids', '-dbtype', 'nucl', '-out', 'SB_biofilm_MAG_36.fa'], returncode=0, stdout='\\n\\nBuilding a new DB, current time: 12/28/2020 16:11:42\\nNew DB name:   /home/ecutts/Shark-Bay-MAGs/SB_biofilm_MAG_36.fa\\nNew DB title:  SB_biofilm_MAG_36.fa\\nSequence type: Nucleotide\\nKeep MBits: T\\nMaximum file size: 1000000000B\\nAdding sequences from FASTA; added 83 sequences in 0.0624611 seconds.\\n'),)\n",
      "(CompletedProcess(args=['/cm/shared/engaging/ncbi-blast/2.6.0+/bin/makeblastdb', '-in', 'SB_biofilm_MAG_53.fa', '-parse_seqids', '-dbtype', 'nucl', '-out', 'SB_biofilm_MAG_53.fa'], returncode=0, stdout='\\n\\nBuilding a new DB, current time: 12/28/2020 16:11:42\\nNew DB name:   /home/ecutts/Shark-Bay-MAGs/SB_biofilm_MAG_53.fa\\nNew DB title:  SB_biofilm_MAG_53.fa\\nSequence type: Nucleotide\\nKeep MBits: T\\nMaximum file size: 1000000000B\\nAdding sequences from FASTA; added 393 sequences in 0.2208 seconds.\\n'),)\n",
      "(CompletedProcess(args=['/cm/shared/engaging/ncbi-blast/2.6.0+/bin/makeblastdb', '-in', 'SB_biofilm_MAG_43.fa', '-parse_seqids', '-dbtype', 'nucl', '-out', 'SB_biofilm_MAG_43.fa'], returncode=0, stdout='\\n\\nBuilding a new DB, current time: 12/28/2020 16:11:43\\nNew DB name:   /home/ecutts/Shark-Bay-MAGs/SB_biofilm_MAG_43.fa\\nNew DB title:  SB_biofilm_MAG_43.fa\\nSequence type: Nucleotide\\nKeep MBits: T\\nMaximum file size: 1000000000B\\nAdding sequences from FASTA; added 216 sequences in 0.707725 seconds.\\n'),)\n",
      "(CompletedProcess(args=['/cm/shared/engaging/ncbi-blast/2.6.0+/bin/makeblastdb', '-in', 'SB_biofilm_MAG_12.fa', '-parse_seqids', '-dbtype', 'nucl', '-out', 'SB_biofilm_MAG_12.fa'], returncode=0, stdout='\\n\\nBuilding a new DB, current time: 12/28/2020 16:11:43\\nNew DB name:   /home/ecutts/Shark-Bay-MAGs/SB_biofilm_MAG_12.fa\\nNew DB title:  SB_biofilm_MAG_12.fa\\nSequence type: Nucleotide\\nKeep MBits: T\\nMaximum file size: 1000000000B\\nAdding sequences from FASTA; added 112 sequences in 0.13309 seconds.\\n'),)\n",
      "(CompletedProcess(args=['/cm/shared/engaging/ncbi-blast/2.6.0+/bin/makeblastdb', '-in', 'SB_biofilm_MAG_84.fa', '-parse_seqids', '-dbtype', 'nucl', '-out', 'SB_biofilm_MAG_84.fa'], returncode=0, stdout='\\n\\nBuilding a new DB, current time: 12/28/2020 16:11:44\\nNew DB name:   /home/ecutts/Shark-Bay-MAGs/SB_biofilm_MAG_84.fa\\nNew DB title:  SB_biofilm_MAG_84.fa\\nSequence type: Nucleotide\\nKeep MBits: T\\nMaximum file size: 1000000000B\\nAdding sequences from FASTA; added 690 sequences in 0.10348 seconds.\\n'),)\n",
      "(CompletedProcess(args=['/cm/shared/engaging/ncbi-blast/2.6.0+/bin/makeblastdb', '-in', 'SB_biofilm_MAG_26.fa', '-parse_seqids', '-dbtype', 'nucl', '-out', 'SB_biofilm_MAG_26.fa'], returncode=0, stdout='\\n\\nBuilding a new DB, current time: 12/28/2020 16:11:44\\nNew DB name:   /home/ecutts/Shark-Bay-MAGs/SB_biofilm_MAG_26.fa\\nNew DB title:  SB_biofilm_MAG_26.fa\\nSequence type: Nucleotide\\nKeep MBits: T\\nMaximum file size: 1000000000B\\nAdding sequences from FASTA; added 210 sequences in 0.0695469 seconds.\\n'),)\n",
      "(CompletedProcess(args=['/cm/shared/engaging/ncbi-blast/2.6.0+/bin/makeblastdb', '-in', 'SB_biofilm_MAG_77.fa', '-parse_seqids', '-dbtype', 'nucl', '-out', 'SB_biofilm_MAG_77.fa'], returncode=0, stdout='\\n\\nBuilding a new DB, current time: 12/28/2020 16:11:44\\nNew DB name:   /home/ecutts/Shark-Bay-MAGs/SB_biofilm_MAG_77.fa\\nNew DB title:  SB_biofilm_MAG_77.fa\\nSequence type: Nucleotide\\nKeep MBits: T\\nMaximum file size: 1000000000B\\nAdding sequences from FASTA; added 738 sequences in 0.133994 seconds.\\n'),)\n",
      "(CompletedProcess(args=['/cm/shared/engaging/ncbi-blast/2.6.0+/bin/makeblastdb', '-in', 'SB_biofilm_MAG_8.fa', '-parse_seqids', '-dbtype', 'nucl', '-out', 'SB_biofilm_MAG_8.fa'], returncode=0, stdout='\\n\\nBuilding a new DB, current time: 12/28/2020 16:11:44\\nNew DB name:   /home/ecutts/Shark-Bay-MAGs/SB_biofilm_MAG_8.fa\\nNew DB title:  SB_biofilm_MAG_8.fa\\nSequence type: Nucleotide\\nKeep MBits: T\\nMaximum file size: 1000000000B\\nAdding sequences from FASTA; added 178 sequences in 0.176971 seconds.\\n'),)\n"
     ]
    },
    {
     "name": "stdout",
     "output_type": "stream",
     "text": [
      "(CompletedProcess(args=['/cm/shared/engaging/ncbi-blast/2.6.0+/bin/makeblastdb', '-in', 'SB_biofilm_MAG_54.fa', '-parse_seqids', '-dbtype', 'nucl', '-out', 'SB_biofilm_MAG_54.fa'], returncode=0, stdout='\\n\\nBuilding a new DB, current time: 12/28/2020 16:11:44\\nNew DB name:   /home/ecutts/Shark-Bay-MAGs/SB_biofilm_MAG_54.fa\\nNew DB title:  SB_biofilm_MAG_54.fa\\nSequence type: Nucleotide\\nKeep MBits: T\\nMaximum file size: 1000000000B\\nAdding sequences from FASTA; added 444 sequences in 0.155963 seconds.\\n'),)\n",
      "(CompletedProcess(args=['/cm/shared/engaging/ncbi-blast/2.6.0+/bin/makeblastdb', '-in', 'SB_biofilm_MAG_60.fa', '-parse_seqids', '-dbtype', 'nucl', '-out', 'SB_biofilm_MAG_60.fa'], returncode=0, stdout='\\n\\nBuilding a new DB, current time: 12/28/2020 16:11:45\\nNew DB name:   /home/ecutts/Shark-Bay-MAGs/SB_biofilm_MAG_60.fa\\nNew DB title:  SB_biofilm_MAG_60.fa\\nSequence type: Nucleotide\\nKeep MBits: T\\nMaximum file size: 1000000000B\\nAdding sequences from FASTA; added 382 sequences in 0.098079 seconds.\\n'),)\n",
      "(CompletedProcess(args=['/cm/shared/engaging/ncbi-blast/2.6.0+/bin/makeblastdb', '-in', 'SB_biofilm_MAG_31.fa', '-parse_seqids', '-dbtype', 'nucl', '-out', 'SB_biofilm_MAG_31.fa'], returncode=0, stdout='\\n\\nBuilding a new DB, current time: 12/28/2020 16:11:45\\nNew DB name:   /home/ecutts/Shark-Bay-MAGs/SB_biofilm_MAG_31.fa\\nNew DB title:  SB_biofilm_MAG_31.fa\\nSequence type: Nucleotide\\nKeep MBits: T\\nMaximum file size: 1000000000B\\nAdding sequences from FASTA; added 104 sequences in 0.107435 seconds.\\n'),)\n",
      "(CompletedProcess(args=['/cm/shared/engaging/ncbi-blast/2.6.0+/bin/makeblastdb', '-in', 'SB_biofilm_MAG_21.fa', '-parse_seqids', '-dbtype', 'nucl', '-out', 'SB_biofilm_MAG_21.fa'], returncode=0, stdout='\\n\\nBuilding a new DB, current time: 12/28/2020 16:11:45\\nNew DB name:   /home/ecutts/Shark-Bay-MAGs/SB_biofilm_MAG_21.fa\\nNew DB title:  SB_biofilm_MAG_21.fa\\nSequence type: Nucleotide\\nKeep MBits: T\\nMaximum file size: 1000000000B\\nAdding sequences from FASTA; added 58 sequences in 0.200988 seconds.\\n'),)\n",
      "(CompletedProcess(args=['/cm/shared/engaging/ncbi-blast/2.6.0+/bin/makeblastdb', '-in', 'SB_biofilm_MAG_70.fa', '-parse_seqids', '-dbtype', 'nucl', '-out', 'SB_biofilm_MAG_70.fa'], returncode=0, stdout='\\n\\nBuilding a new DB, current time: 12/28/2020 16:11:45\\nNew DB name:   /home/ecutts/Shark-Bay-MAGs/SB_biofilm_MAG_70.fa\\nNew DB title:  SB_biofilm_MAG_70.fa\\nSequence type: Nucleotide\\nKeep MBits: T\\nMaximum file size: 1000000000B\\nAdding sequences from FASTA; added 237 sequences in 0.0576959 seconds.\\n'),)\n",
      "(CompletedProcess(args=['/cm/shared/engaging/ncbi-blast/2.6.0+/bin/makeblastdb', '-in', 'SB_biofilm_MAG_83.fa', '-parse_seqids', '-dbtype', 'nucl', '-out', 'SB_biofilm_MAG_83.fa'], returncode=0, stdout='\\n\\nBuilding a new DB, current time: 12/28/2020 16:11:45\\nNew DB name:   /home/ecutts/Shark-Bay-MAGs/SB_biofilm_MAG_83.fa\\nNew DB title:  SB_biofilm_MAG_83.fa\\nSequence type: Nucleotide\\nKeep MBits: T\\nMaximum file size: 1000000000B\\nAdding sequences from FASTA; added 402 sequences in 0.064049 seconds.\\n'),)\n",
      "(CompletedProcess(args=['/cm/shared/engaging/ncbi-blast/2.6.0+/bin/makeblastdb', '-in', 'SB_biofilm_MAG_44.fa', '-parse_seqids', '-dbtype', 'nucl', '-out', 'SB_biofilm_MAG_44.fa'], returncode=0, stdout='\\n\\nBuilding a new DB, current time: 12/28/2020 16:11:46\\nNew DB name:   /home/ecutts/Shark-Bay-MAGs/SB_biofilm_MAG_44.fa\\nNew DB title:  SB_biofilm_MAG_44.fa\\nSequence type: Nucleotide\\nKeep MBits: T\\nMaximum file size: 1000000000B\\nAdding sequences from FASTA; added 269 sequences in 0.165447 seconds.\\n'),)\n",
      "(CompletedProcess(args=['/cm/shared/engaging/ncbi-blast/2.6.0+/bin/makeblastdb', '-in', 'SB_biofilm_MAG_15.fa', '-parse_seqids', '-dbtype', 'nucl', '-out', 'SB_biofilm_MAG_15.fa'], returncode=0, stdout='\\n\\nBuilding a new DB, current time: 12/28/2020 16:11:46\\nNew DB name:   /home/ecutts/Shark-Bay-MAGs/SB_biofilm_MAG_15.fa\\nNew DB title:  SB_biofilm_MAG_15.fa\\nSequence type: Nucleotide\\nKeep MBits: T\\nMaximum file size: 1000000000B\\nAdding sequences from FASTA; added 149 sequences in 0.164355 seconds.\\n'),)\n",
      "(CompletedProcess(args=['/cm/shared/engaging/ncbi-blast/2.6.0+/bin/makeblastdb', '-in', 'SB_biofilm_MAG_35.fa', '-parse_seqids', '-dbtype', 'nucl', '-out', 'SB_biofilm_MAG_35.fa'], returncode=0, stdout='\\n\\nBuilding a new DB, current time: 12/28/2020 16:11:46\\nNew DB name:   /home/ecutts/Shark-Bay-MAGs/SB_biofilm_MAG_35.fa\\nNew DB title:  SB_biofilm_MAG_35.fa\\nSequence type: Nucleotide\\nKeep MBits: T\\nMaximum file size: 1000000000B\\nAdding sequences from FASTA; added 13 sequences in 0.067163 seconds.\\n'),)\n",
      "(CompletedProcess(args=['/cm/shared/engaging/ncbi-blast/2.6.0+/bin/makeblastdb', '-in', 'SB_biofilm_MAG_64.fa', '-parse_seqids', '-dbtype', 'nucl', '-out', 'SB_biofilm_MAG_64.fa'], returncode=0, stdout='\\n\\nBuilding a new DB, current time: 12/28/2020 16:11:46\\nNew DB name:   /home/ecutts/Shark-Bay-MAGs/SB_biofilm_MAG_64.fa\\nNew DB title:  SB_biofilm_MAG_64.fa\\nSequence type: Nucleotide\\nKeep MBits: T\\nMaximum file size: 1000000000B\\nAdding sequences from FASTA; added 372 sequences in 0.101641 seconds.\\n'),)\n",
      "(CompletedProcess(args=['/cm/shared/engaging/ncbi-blast/2.6.0+/bin/makeblastdb', '-in', 'SB_biofilm_MAG_50.fa', '-parse_seqids', '-dbtype', 'nucl', '-out', 'SB_biofilm_MAG_50.fa'], returncode=0, stdout='\\n\\nBuilding a new DB, current time: 12/28/2020 16:11:46\\nNew DB name:   /home/ecutts/Shark-Bay-MAGs/SB_biofilm_MAG_50.fa\\nNew DB title:  SB_biofilm_MAG_50.fa\\nSequence type: Nucleotide\\nKeep MBits: T\\nMaximum file size: 1000000000B\\nAdding sequences from FASTA; added 285 sequences in 0.0959539 seconds.\\n'),)\n",
      "(CompletedProcess(args=['/cm/shared/engaging/ncbi-blast/2.6.0+/bin/makeblastdb', '-in', 'SB_biofilm_MAG_11.fa', '-parse_seqids', '-dbtype', 'nucl', '-out', 'SB_biofilm_MAG_11.fa'], returncode=0, stdout='\\n\\nBuilding a new DB, current time: 12/28/2020 16:11:47\\nNew DB name:   /home/ecutts/Shark-Bay-MAGs/SB_biofilm_MAG_11.fa\\nNew DB title:  SB_biofilm_MAG_11.fa\\nSequence type: Nucleotide\\nKeep MBits: T\\nMaximum file size: 1000000000B\\nAdding sequences from FASTA; added 49 sequences in 0.239956 seconds.\\n'),)\n",
      "(CompletedProcess(args=['/cm/shared/engaging/ncbi-blast/2.6.0+/bin/makeblastdb', '-in', 'SB_biofilm_MAG_40.fa', '-parse_seqids', '-dbtype', 'nucl', '-out', 'SB_biofilm_MAG_40.fa'], returncode=0, stdout='\\n\\nBuilding a new DB, current time: 12/28/2020 16:11:47\\nNew DB name:   /home/ecutts/Shark-Bay-MAGs/SB_biofilm_MAG_40.fa\\nNew DB title:  SB_biofilm_MAG_40.fa\\nSequence type: Nucleotide\\nKeep MBits: T\\nMaximum file size: 1000000000B\\nAdding sequences from FASTA; added 409 sequences in 0.111461 seconds.\\n'),)\n",
      "(CompletedProcess(args=['/cm/shared/engaging/ncbi-blast/2.6.0+/bin/makeblastdb', '-in', 'SB_biofilm_MAG_74.fa', '-parse_seqids', '-dbtype', 'nucl', '-out', 'SB_biofilm_MAG_74.fa'], returncode=0, stdout='\\n\\nBuilding a new DB, current time: 12/28/2020 16:11:47\\nNew DB name:   /home/ecutts/Shark-Bay-MAGs/SB_biofilm_MAG_74.fa\\nNew DB title:  SB_biofilm_MAG_74.fa\\nSequence type: Nucleotide\\nKeep MBits: T\\nMaximum file size: 1000000000B\\nAdding sequences from FASTA; added 480 sequences in 0.0721021 seconds.\\n'),)\n",
      "(CompletedProcess(args=['/cm/shared/engaging/ncbi-blast/2.6.0+/bin/makeblastdb', '-in', 'SB_biofilm_MAG_25.fa', '-parse_seqids', '-dbtype', 'nucl', '-out', 'SB_biofilm_MAG_25.fa'], returncode=0, stdout='\\n\\nBuilding a new DB, current time: 12/28/2020 16:11:47\\nNew DB name:   /home/ecutts/Shark-Bay-MAGs/SB_biofilm_MAG_25.fa\\nNew DB title:  SB_biofilm_MAG_25.fa\\nSequence type: Nucleotide\\nKeep MBits: T\\nMaximum file size: 1000000000B\\nAdding sequences from FASTA; added 36 sequences in 0.077662 seconds.\\n'),)\n",
      "(CompletedProcess(args=['/cm/shared/engaging/ncbi-blast/2.6.0+/bin/makeblastdb', '-in', 'SB_biofilm_MAG_34.fa', '-parse_seqids', '-dbtype', 'nucl', '-out', 'SB_biofilm_MAG_34.fa'], returncode=0, stdout='\\n\\nBuilding a new DB, current time: 12/28/2020 16:11:47\\nNew DB name:   /home/ecutts/Shark-Bay-MAGs/SB_biofilm_MAG_34.fa\\nNew DB title:  SB_biofilm_MAG_34.fa\\nSequence type: Nucleotide\\nKeep MBits: T\\nMaximum file size: 1000000000B\\nAdding sequences from FASTA; added 387 sequences in 0.149403 seconds.\\n'),)\n",
      "(CompletedProcess(args=['/cm/shared/engaging/ncbi-blast/2.6.0+/bin/makeblastdb', '-in', 'SB_biofilm_MAG_65.fa', '-parse_seqids', '-dbtype', 'nucl', '-out', 'SB_biofilm_MAG_65.fa'], returncode=0, stdout='\\n\\nBuilding a new DB, current time: 12/28/2020 16:11:48\\nNew DB name:   /home/ecutts/Shark-Bay-MAGs/SB_biofilm_MAG_65.fa\\nNew DB title:  SB_biofilm_MAG_65.fa\\nSequence type: Nucleotide\\nKeep MBits: T\\nMaximum file size: 1000000000B\\nAdding sequences from FASTA; added 135 sequences in 0.135313 seconds.\\n'),)\n"
     ]
    },
    {
     "name": "stdout",
     "output_type": "stream",
     "text": [
      "(CompletedProcess(args=['/cm/shared/engaging/ncbi-blast/2.6.0+/bin/makeblastdb', '-in', 'SB_biofilm_MAG_51.fa', '-parse_seqids', '-dbtype', 'nucl', '-out', 'SB_biofilm_MAG_51.fa'], returncode=0, stdout='\\n\\nBuilding a new DB, current time: 12/28/2020 16:11:48\\nNew DB name:   /home/ecutts/Shark-Bay-MAGs/SB_biofilm_MAG_51.fa\\nNew DB title:  SB_biofilm_MAG_51.fa\\nSequence type: Nucleotide\\nKeep MBits: T\\nMaximum file size: 1000000000B\\nAdding sequences from FASTA; added 108 sequences in 0.0997841 seconds.\\n'),)\n",
      "(CompletedProcess(args=['/cm/shared/engaging/ncbi-blast/2.6.0+/bin/makeblastdb', '-in', 'SB_biofilm_MAG_10.fa', '-parse_seqids', '-dbtype', 'nucl', '-out', 'SB_biofilm_MAG_10.fa'], returncode=0, stdout='\\n\\nBuilding a new DB, current time: 12/28/2020 16:11:48\\nNew DB name:   /home/ecutts/Shark-Bay-MAGs/SB_biofilm_MAG_10.fa\\nNew DB title:  SB_biofilm_MAG_10.fa\\nSequence type: Nucleotide\\nKeep MBits: T\\nMaximum file size: 1000000000B\\nAdding sequences from FASTA; added 111 sequences in 0.111052 seconds.\\n'),)\n",
      "(CompletedProcess(args=['/cm/shared/engaging/ncbi-blast/2.6.0+/bin/makeblastdb', '-in', 'SB_biofilm_MAG_41.fa', '-parse_seqids', '-dbtype', 'nucl', '-out', 'SB_biofilm_MAG_41.fa'], returncode=0, stdout='\\n\\nBuilding a new DB, current time: 12/28/2020 16:11:48\\nNew DB name:   /home/ecutts/Shark-Bay-MAGs/SB_biofilm_MAG_41.fa\\nNew DB title:  SB_biofilm_MAG_41.fa\\nSequence type: Nucleotide\\nKeep MBits: T\\nMaximum file size: 1000000000B\\nAdding sequences from FASTA; added 334 sequences in 0.0776181 seconds.\\n'),)\n",
      "(CompletedProcess(args=['/cm/shared/engaging/ncbi-blast/2.6.0+/bin/makeblastdb', '-in', 'SB_biofilm_MAG_75.fa', '-parse_seqids', '-dbtype', 'nucl', '-out', 'SB_biofilm_MAG_75.fa'], returncode=0, stdout='\\n\\nBuilding a new DB, current time: 12/28/2020 16:11:48\\nNew DB name:   /home/ecutts/Shark-Bay-MAGs/SB_biofilm_MAG_75.fa\\nNew DB title:  SB_biofilm_MAG_75.fa\\nSequence type: Nucleotide\\nKeep MBits: T\\nMaximum file size: 1000000000B\\nAdding sequences from FASTA; added 535 sequences in 0.096312 seconds.\\n'),)\n",
      "(CompletedProcess(args=['/cm/shared/engaging/ncbi-blast/2.6.0+/bin/makeblastdb', '-in', 'SB_biofilm_MAG_24.fa', '-parse_seqids', '-dbtype', 'nucl', '-out', 'SB_biofilm_MAG_24.fa'], returncode=0, stdout='\\n\\nBuilding a new DB, current time: 12/28/2020 16:11:49\\nNew DB name:   /home/ecutts/Shark-Bay-MAGs/SB_biofilm_MAG_24.fa\\nNew DB title:  SB_biofilm_MAG_24.fa\\nSequence type: Nucleotide\\nKeep MBits: T\\nMaximum file size: 1000000000B\\nAdding sequences from FASTA; added 285 sequences in 0.148486 seconds.\\n'),)\n",
      "(CompletedProcess(args=['/cm/shared/engaging/ncbi-blast/2.6.0+/bin/makeblastdb', '-in', 'SB_biofilm_MAG_9.fa', '-parse_seqids', '-dbtype', 'nucl', '-out', 'SB_biofilm_MAG_9.fa'], returncode=0, stdout='\\n\\nBuilding a new DB, current time: 12/28/2020 16:11:49\\nNew DB name:   /home/ecutts/Shark-Bay-MAGs/SB_biofilm_MAG_9.fa\\nNew DB title:  SB_biofilm_MAG_9.fa\\nSequence type: Nucleotide\\nKeep MBits: T\\nMaximum file size: 1000000000B\\nAdding sequences from FASTA; added 219 sequences in 0.151876 seconds.\\n'),)\n",
      "(CompletedProcess(args=['/cm/shared/engaging/ncbi-blast/2.6.0+/bin/makeblastdb', '-in', 'SB_biofilm_MAG_55.fa', '-parse_seqids', '-dbtype', 'nucl', '-out', 'SB_biofilm_MAG_55.fa'], returncode=0, stdout='\\n\\nBuilding a new DB, current time: 12/28/2020 16:11:49\\nNew DB name:   /home/ecutts/Shark-Bay-MAGs/SB_biofilm_MAG_55.fa\\nNew DB title:  SB_biofilm_MAG_55.fa\\nSequence type: Nucleotide\\nKeep MBits: T\\nMaximum file size: 1000000000B\\nAdding sequences from FASTA; added 442 sequences in 0.178953 seconds.\\n'),)\n",
      "(CompletedProcess(args=['/cm/shared/engaging/ncbi-blast/2.6.0+/bin/makeblastdb', '-in', 'SB_biofilm_MAG_61.fa', '-parse_seqids', '-dbtype', 'nucl', '-out', 'SB_biofilm_MAG_61.fa'], returncode=0, stdout='\\n\\nBuilding a new DB, current time: 12/28/2020 16:11:49\\nNew DB name:   /home/ecutts/Shark-Bay-MAGs/SB_biofilm_MAG_61.fa\\nNew DB title:  SB_biofilm_MAG_61.fa\\nSequence type: Nucleotide\\nKeep MBits: T\\nMaximum file size: 1000000000B\\nAdding sequences from FASTA; added 398 sequences in 0.09533 seconds.\\n'),)\n",
      "(CompletedProcess(args=['/cm/shared/engaging/ncbi-blast/2.6.0+/bin/makeblastdb', '-in', 'SB_biofilm_MAG_30.fa', '-parse_seqids', '-dbtype', 'nucl', '-out', 'SB_biofilm_MAG_30.fa'], returncode=0, stdout='\\n\\nBuilding a new DB, current time: 12/28/2020 16:11:49\\nNew DB name:   /home/ecutts/Shark-Bay-MAGs/SB_biofilm_MAG_30.fa\\nNew DB title:  SB_biofilm_MAG_30.fa\\nSequence type: Nucleotide\\nKeep MBits: T\\nMaximum file size: 1000000000B\\nAdding sequences from FASTA; added 269 sequences in 0.0874329 seconds.\\n'),)\n",
      "(CompletedProcess(args=['/cm/shared/engaging/ncbi-blast/2.6.0+/bin/makeblastdb', '-in', 'SB_biofilm_MAG_20.fa', '-parse_seqids', '-dbtype', 'nucl', '-out', 'SB_biofilm_MAG_20.fa'], returncode=0, stdout='\\n\\nBuilding a new DB, current time: 12/28/2020 16:11:50\\nNew DB name:   /home/ecutts/Shark-Bay-MAGs/SB_biofilm_MAG_20.fa\\nNew DB title:  SB_biofilm_MAG_20.fa\\nSequence type: Nucleotide\\nKeep MBits: T\\nMaximum file size: 1000000000B\\nAdding sequences from FASTA; added 187 sequences in 0.12968 seconds.\\n'),)\n",
      "(CompletedProcess(args=['/cm/shared/engaging/ncbi-blast/2.6.0+/bin/makeblastdb', '-in', 'SB_biofilm_MAG_71.fa', '-parse_seqids', '-dbtype', 'nucl', '-out', 'SB_biofilm_MAG_71.fa'], returncode=0, stdout='\\n\\nBuilding a new DB, current time: 12/28/2020 16:11:50\\nNew DB name:   /home/ecutts/Shark-Bay-MAGs/SB_biofilm_MAG_71.fa\\nNew DB title:  SB_biofilm_MAG_71.fa\\nSequence type: Nucleotide\\nKeep MBits: T\\nMaximum file size: 1000000000B\\nAdding sequences from FASTA; added 711 sequences in 0.094584 seconds.\\n'),)\n",
      "(CompletedProcess(args=['/cm/shared/engaging/ncbi-blast/2.6.0+/bin/makeblastdb', '-in', 'SB_biofilm_MAG_82.fa', '-parse_seqids', '-dbtype', 'nucl', '-out', 'SB_biofilm_MAG_82.fa'], returncode=0, stdout='\\n\\nBuilding a new DB, current time: 12/28/2020 16:11:50\\nNew DB name:   /home/ecutts/Shark-Bay-MAGs/SB_biofilm_MAG_82.fa\\nNew DB title:  SB_biofilm_MAG_82.fa\\nSequence type: Nucleotide\\nKeep MBits: T\\nMaximum file size: 1000000000B\\nAdding sequences from FASTA; added 266 sequences in 0.0838981 seconds.\\n'),)\n",
      "(CompletedProcess(args=['/cm/shared/engaging/ncbi-blast/2.6.0+/bin/makeblastdb', '-in', 'SB_biofilm_MAG_45.fa', '-parse_seqids', '-dbtype', 'nucl', '-out', 'SB_biofilm_MAG_45.fa'], returncode=0, stdout='\\n\\nBuilding a new DB, current time: 12/28/2020 16:11:50\\nNew DB name:   /home/ecutts/Shark-Bay-MAGs/SB_biofilm_MAG_45.fa\\nNew DB title:  SB_biofilm_MAG_45.fa\\nSequence type: Nucleotide\\nKeep MBits: T\\nMaximum file size: 1000000000B\\nAdding sequences from FASTA; added 348 sequences in 0.143173 seconds.\\n'),)\n",
      "(CompletedProcess(args=['/cm/shared/engaging/ncbi-blast/2.6.0+/bin/makeblastdb', '-in', 'SB_biofilm_MAG_14.fa', '-parse_seqids', '-dbtype', 'nucl', '-out', 'SB_biofilm_MAG_14.fa'], returncode=0, stdout='\\n\\nBuilding a new DB, current time: 12/28/2020 16:11:50\\nNew DB name:   /home/ecutts/Shark-Bay-MAGs/SB_biofilm_MAG_14.fa\\nNew DB title:  SB_biofilm_MAG_14.fa\\nSequence type: Nucleotide\\nKeep MBits: T\\nMaximum file size: 1000000000B\\nAdding sequences from FASTA; added 175 sequences in 0.172443 seconds.\\n'),)\n",
      "(CompletedProcess(args=['/cm/shared/engaging/ncbi-blast/2.6.0+/bin/makeblastdb', '-in', 'SB_biofilm_MAG_2.fa', '-parse_seqids', '-dbtype', 'nucl', '-out', 'SB_biofilm_MAG_2.fa'], returncode=0, stdout='\\n\\nBuilding a new DB, current time: 12/28/2020 16:11:51\\nNew DB name:   /home/ecutts/Shark-Bay-MAGs/SB_biofilm_MAG_2.fa\\nNew DB title:  SB_biofilm_MAG_2.fa\\nSequence type: Nucleotide\\nKeep MBits: T\\nMaximum file size: 1000000000B\\nAdding sequences from FASTA; added 31 sequences in 0.144881 seconds.\\n'),)\n",
      "(CompletedProcess(args=['/cm/shared/engaging/ncbi-blast/2.6.0+/bin/makeblastdb', '-in', 'SB_biofilm_MAG_6.fa', '-parse_seqids', '-dbtype', 'nucl', '-out', 'SB_biofilm_MAG_6.fa'], returncode=0, stdout='\\n\\nBuilding a new DB, current time: 12/28/2020 16:11:51\\nNew DB name:   /home/ecutts/Shark-Bay-MAGs/SB_biofilm_MAG_6.fa\\nNew DB title:  SB_biofilm_MAG_6.fa\\nSequence type: Nucleotide\\nKeep MBits: T\\nMaximum file size: 1000000000B\\nAdding sequences from FASTA; added 37 sequences in 0.110301 seconds.\\n'),)\n"
     ]
    },
    {
     "name": "stdout",
     "output_type": "stream",
     "text": [
      "(CompletedProcess(args=['/cm/shared/engaging/ncbi-blast/2.6.0+/bin/makeblastdb', '-in', 'SB_biofilm_MAG_7.fa', '-parse_seqids', '-dbtype', 'nucl', '-out', 'SB_biofilm_MAG_7.fa'], returncode=0, stdout='\\n\\nBuilding a new DB, current time: 12/28/2020 16:11:51\\nNew DB name:   /home/ecutts/Shark-Bay-MAGs/SB_biofilm_MAG_7.fa\\nNew DB title:  SB_biofilm_MAG_7.fa\\nSequence type: Nucleotide\\nKeep MBits: T\\nMaximum file size: 1000000000B\\nAdding sequences from FASTA; added 18 sequences in 0.0794699 seconds.\\n'),)\n",
      "(CompletedProcess(args=['/cm/shared/engaging/ncbi-blast/2.6.0+/bin/makeblastdb', '-in', 'SB_biofilm_MAG_3.fa', '-parse_seqids', '-dbtype', 'nucl', '-out', 'SB_biofilm_MAG_3.fa'], returncode=0, stdout='\\n\\nBuilding a new DB, current time: 12/28/2020 16:11:51\\nNew DB name:   /home/ecutts/Shark-Bay-MAGs/SB_biofilm_MAG_3.fa\\nNew DB title:  SB_biofilm_MAG_3.fa\\nSequence type: Nucleotide\\nKeep MBits: T\\nMaximum file size: 1000000000B\\nAdding sequences from FASTA; added 20 sequences in 0.0835102 seconds.\\n'),)\n"
     ]
    }
   ],
   "source": [
    "for nfasta in os.listdir():\n",
    "    if nfasta.endswith('.fa'):\n",
    "        p = run([ blast + 'makeblastdb', '-in', nfasta, \\\n",
    "                 '-parse_seqids', '-dbtype', 'nucl', '-out', nfasta], stdout = PIPE, universal_newlines=True),\n",
    "        print(p)"
   ]
  },
  {
   "cell_type": "code",
   "execution_count": 9,
   "metadata": {},
   "outputs": [
    {
     "name": "stdout",
     "output_type": "stream",
     "text": [
      "588\n"
     ]
    }
   ],
   "source": [
    "print(len(os.listdir()))"
   ]
  },
  {
   "cell_type": "code",
   "execution_count": 25,
   "metadata": {},
   "outputs": [
    {
     "data": {
      "text/plain": [
       "7.0"
      ]
     },
     "execution_count": 25,
     "metadata": {},
     "output_type": "execute_result"
    }
   ],
   "source": [
    "140/20"
   ]
  },
  {
   "cell_type": "code",
   "execution_count": null,
   "metadata": {},
   "outputs": [],
   "source": [
    "# there are 7 files making a nucleotide database so that checks out."
   ]
  },
  {
   "cell_type": "markdown",
   "metadata": {},
   "source": [
    "# Blast for rproteins against concatenated alignment"
   ]
  },
  {
   "cell_type": "code",
   "execution_count": 29,
   "metadata": {},
   "outputs": [],
   "source": [
    "tblastn = blast + 'tblastn'"
   ]
  },
  {
   "cell_type": "code",
   "execution_count": 31,
   "metadata": {},
   "outputs": [
    {
     "name": "stdout",
     "output_type": "stream",
     "text": [
      "\n"
     ]
    }
   ],
   "source": [
    "p = run([tblastn, '-query', 'queries/bfragilis-30rprots.faa',\\\n",
    "         '-db', 'SB_biofilm_MAG_1.fa', '-out', 'results/test.out',\\\n",
    "        '-outfmt', '7'], \\\n",
    "        stdout=PIPE, universal_newlines=True)\n",
    "print(p.stdout)"
   ]
  },
  {
   "cell_type": "code",
   "execution_count": 32,
   "metadata": {},
   "outputs": [
    {
     "ename": "ModuleNotFoundError",
     "evalue": "No module named 'pandas'",
     "output_type": "error",
     "traceback": [
      "\u001b[0;31m---------------------------------------------------------------------------\u001b[0m",
      "\u001b[0;31mModuleNotFoundError\u001b[0m                       Traceback (most recent call last)",
      "\u001b[0;32m<ipython-input-32-22cf0e12351f>\u001b[0m in \u001b[0;36m<module>\u001b[0;34m\u001b[0m\n\u001b[0;32m----> 1\u001b[0;31m \u001b[0;32mimport\u001b[0m \u001b[0mpandas\u001b[0m \u001b[0;32mas\u001b[0m \u001b[0mpd\u001b[0m\u001b[0;34m\u001b[0m\u001b[0;34m\u001b[0m\u001b[0m\n\u001b[0m\u001b[1;32m      2\u001b[0m header = ['query acc.ver', 'subject acc.ver', '% identity', 'alignment length', 'mismatches',\\\n\u001b[1;32m      3\u001b[0m           'gap opens', 'q. start', 'q. end', 's. start', 's. end', 'evalue', 'bit score']\n",
      "\u001b[0;31mModuleNotFoundError\u001b[0m: No module named 'pandas'"
     ]
    }
   ],
   "source": [
    "header = ['query acc.ver', 'subject acc.ver', '% identity', 'alignment length', 'mismatches',\\\n",
    "          'gap opens', 'q. start', 'q. end', 's. start', 's. end', 'evalue', 'bit score']"
   ]
  },
  {
   "cell_type": "code",
   "execution_count": null,
   "metadata": {},
   "outputs": [],
   "source": []
  }
 ],
 "metadata": {
  "kernelspec": {
   "display_name": "Python 3",
   "language": "python",
   "name": "python3"
  },
  "language_info": {
   "codemirror_mode": {
    "name": "ipython",
    "version": 3
   },
   "file_extension": ".py",
   "mimetype": "text/x-python",
   "name": "python",
   "nbconvert_exporter": "python",
   "pygments_lexer": "ipython3",
   "version": "3.6.12"
  }
 },
 "nbformat": 4,
 "nbformat_minor": 4
}
