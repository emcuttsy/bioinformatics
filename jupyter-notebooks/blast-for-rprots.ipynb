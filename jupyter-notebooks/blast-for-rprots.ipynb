{
 "cells": [
  {
   "cell_type": "code",
   "execution_count": 35,
   "metadata": {},
   "outputs": [],
   "source": [
    "import os\n",
    "import subprocess\n",
    "import pandas as pd\n",
    "from Bio import SeqIO"
   ]
  },
  {
   "cell_type": "markdown",
   "metadata": {},
   "source": [
    "This one needs some work. Could be improved to automaticall rename. Should be pipelined into handling ncbi genome downloads?"
   ]
  },
  {
   "cell_type": "code",
   "execution_count": 38,
   "metadata": {},
   "outputs": [],
   "source": [
    "blastdir = '/home/ecutts/Bacteroidetes/Chlorobi/blastdb/' # dir containing blast database (recocomended: absolute path)\n",
    "query = '/home/ecutts/Bacteroidetes/Chlorobi/queries/bfragilis-30rprots.faa' # path to query (reccomended: absolute path)\n",
    "odir = '/home/ecutts/Bacteroidetes/Chlorobi/results/' # directory for blast output\n",
    "fastadir = '/home/ecutts/Bacteroidetes/Chlorobi/rprots/' # directory for fasta files with output\n",
    "\n",
    "# path to blast command\n",
    "blast = '/cm/shared/engaging/ncbi-blast/2.6.0+/bin/'\n",
    "blastp = blast + 'blastp' # change if you want to use a different blast (i.e. tblastn)\n",
    "\n",
    "# extension of blast database sequence files (e.x. .fasta, .faa)\n",
    "ext = '.faa' \n",
    "\n",
    "# short name of query\n",
    "q_shortname = 'rprots'"
   ]
  },
  {
   "cell_type": "code",
   "execution_count": 20,
   "metadata": {
    "scrolled": true
   },
   "outputs": [
    {
     "name": "stdout",
     "output_type": "stream",
     "text": [
      "CompletedProcess(args=['/cm/shared/engaging/ncbi-blast/2.6.0+/bin/blastp', '-query', '/home/ecutts/Bacteroidetes/Chlorobi/queries/bfragilis-30rprots.faa', '-db', 'GCF_000012485.1_ASM1248v1_protein.faa', '-out', '/home/ecutts/Bacteroidetes/Chlorobi/results/rprots_vs_GCF_000012485.1_ASM1248v1.out', '-outfmt', '6'], returncode=0)\n",
      "CompletedProcess(args=['/cm/shared/engaging/ncbi-blast/2.6.0+/bin/blastp', '-query', '/home/ecutts/Bacteroidetes/Chlorobi/queries/bfragilis-30rprots.faa', '-db', 'GCF_000012585.1_ASM1258v1_protein.faa', '-out', '/home/ecutts/Bacteroidetes/Chlorobi/results/rprots_vs_GCF_000012585.1_ASM1258v1.out', '-outfmt', '6'], returncode=0)\n",
      "CompletedProcess(args=['/cm/shared/engaging/ncbi-blast/2.6.0+/bin/blastp', '-query', '/home/ecutts/Bacteroidetes/Chlorobi/queries/bfragilis-30rprots.faa', '-db', 'GCF_000015125.1_ASM1512v1_protein.faa', '-out', '/home/ecutts/Bacteroidetes/Chlorobi/results/rprots_vs_GCF_000015125.1_ASM1512v1.out', '-outfmt', '6'], returncode=0)\n",
      "CompletedProcess(args=['/cm/shared/engaging/ncbi-blast/2.6.0+/bin/blastp', '-query', '/home/ecutts/Bacteroidetes/Chlorobi/queries/bfragilis-30rprots.faa', '-db', 'GCF_000016085.1_ASM1608v1_protein.faa', '-out', '/home/ecutts/Bacteroidetes/Chlorobi/results/rprots_vs_GCF_000016085.1_ASM1608v1.out', '-outfmt', '6'], returncode=0)\n",
      "CompletedProcess(args=['/cm/shared/engaging/ncbi-blast/2.6.0+/bin/blastp', '-query', '/home/ecutts/Bacteroidetes/Chlorobi/queries/bfragilis-30rprots.faa', '-db', 'GCF_000020465.1_ASM2046v1_protein.faa', '-out', '/home/ecutts/Bacteroidetes/Chlorobi/results/rprots_vs_GCF_000020465.1_ASM2046v1.out', '-outfmt', '6'], returncode=0)\n",
      "CompletedProcess(args=['/cm/shared/engaging/ncbi-blast/2.6.0+/bin/blastp', '-query', '/home/ecutts/Bacteroidetes/Chlorobi/queries/bfragilis-30rprots.faa', '-db', 'GCF_000020505.1_ASM2050v1_protein.faa', '-out', '/home/ecutts/Bacteroidetes/Chlorobi/results/rprots_vs_GCF_000020505.1_ASM2050v1.out', '-outfmt', '6'], returncode=0)\n",
      "CompletedProcess(args=['/cm/shared/engaging/ncbi-blast/2.6.0+/bin/blastp', '-query', '/home/ecutts/Bacteroidetes/Chlorobi/queries/bfragilis-30rprots.faa', '-db', 'GCF_000020525.1_ASM2052v1_protein.faa', '-out', '/home/ecutts/Bacteroidetes/Chlorobi/results/rprots_vs_GCF_000020525.1_ASM2052v1.out', '-outfmt', '6'], returncode=0)\n",
      "CompletedProcess(args=['/cm/shared/engaging/ncbi-blast/2.6.0+/bin/blastp', '-query', '/home/ecutts/Bacteroidetes/Chlorobi/queries/bfragilis-30rprots.faa', '-db', 'GCF_000020545.1_ASM2054v1_protein.faa', '-out', '/home/ecutts/Bacteroidetes/Chlorobi/results/rprots_vs_GCF_000020545.1_ASM2054v1.out', '-outfmt', '6'], returncode=0)\n",
      "CompletedProcess(args=['/cm/shared/engaging/ncbi-blast/2.6.0+/bin/blastp', '-query', '/home/ecutts/Bacteroidetes/Chlorobi/queries/bfragilis-30rprots.faa', '-db', 'GCF_000020625.1_ASM2062v1_protein.faa', '-out', '/home/ecutts/Bacteroidetes/Chlorobi/results/rprots_vs_GCF_000020625.1_ASM2062v1.out', '-outfmt', '6'], returncode=0)\n",
      "CompletedProcess(args=['/cm/shared/engaging/ncbi-blast/2.6.0+/bin/blastp', '-query', '/home/ecutts/Bacteroidetes/Chlorobi/queries/bfragilis-30rprots.faa', '-db', 'GCF_000020645.1_ASM2064v1_protein.faa', '-out', '/home/ecutts/Bacteroidetes/Chlorobi/results/rprots_vs_GCF_000020645.1_ASM2064v1.out', '-outfmt', '6'], returncode=0)\n",
      "CompletedProcess(args=['/cm/shared/engaging/ncbi-blast/2.6.0+/bin/blastp', '-query', '/home/ecutts/Bacteroidetes/Chlorobi/queries/bfragilis-30rprots.faa', '-db', 'GCF_001687065.1_ASM168706v1_protein.faa', '-out', '/home/ecutts/Bacteroidetes/Chlorobi/results/rprots_vs_GCF_001687065.1_ASM168706v1.out', '-outfmt', '6'], returncode=0)\n",
      "CompletedProcess(args=['/cm/shared/engaging/ncbi-blast/2.6.0+/bin/blastp', '-query', '/home/ecutts/Bacteroidetes/Chlorobi/queries/bfragilis-30rprots.faa', '-db', 'GCF_001747405.1_ASM174740v1_protein.faa', '-out', '/home/ecutts/Bacteroidetes/Chlorobi/results/rprots_vs_GCF_001747405.1_ASM174740v1.out', '-outfmt', '6'], returncode=0)\n",
      "CompletedProcess(args=['/cm/shared/engaging/ncbi-blast/2.6.0+/bin/blastp', '-query', '/home/ecutts/Bacteroidetes/Chlorobi/queries/bfragilis-30rprots.faa', '-db', 'GCF_002113825.1_ASM211382v1_protein.faa', '-out', '/home/ecutts/Bacteroidetes/Chlorobi/results/rprots_vs_GCF_002113825.1_ASM211382v1.out', '-outfmt', '6'], returncode=0)\n",
      "CompletedProcess(args=['/cm/shared/engaging/ncbi-blast/2.6.0+/bin/blastp', '-query', '/home/ecutts/Bacteroidetes/Chlorobi/queries/bfragilis-30rprots.faa', '-db', 'GCF_002240205.1_ASM224020v1_protein.faa', '-out', '/home/ecutts/Bacteroidetes/Chlorobi/results/rprots_vs_GCF_002240205.1_ASM224020v1.out', '-outfmt', '6'], returncode=0)\n",
      "CompletedProcess(args=['/cm/shared/engaging/ncbi-blast/2.6.0+/bin/blastp', '-query', '/home/ecutts/Bacteroidetes/Chlorobi/queries/bfragilis-30rprots.faa', '-db', 'GCF_000006985.1_ASM698v1_protein.faa', '-out', '/home/ecutts/Bacteroidetes/Chlorobi/results/rprots_vs_GCF_000006985.1_ASM698v1.out', '-outfmt', '6'], returncode=0)\n"
     ]
    }
   ],
   "source": [
    "os.chdir(blastdir)\n",
    "for db in os.listdir():\n",
    "    if db.endswith(ext): # only check the blast db files\n",
    "        db_id = db.split('_protein')[0] # change this code to pull out the id of your seqs\n",
    "        p = subprocess.run([blastp, '-query', query,\\\n",
    "                '-db', db, '-out', odir + q_shortname + '_vs_' + db_id + '.out',\\\n",
    "                '-outfmt', '6'])\n",
    "        print(p)"
   ]
  },
  {
   "cell_type": "code",
   "execution_count": 64,
   "metadata": {},
   "outputs": [
    {
     "name": "stdout",
     "output_type": "stream",
     "text": [
      "GCF_000012485.1_ASM1248v1: 30 hits\n",
      "GCF_000012585.1_ASM1258v1: 32 hits\n",
      "GCF_000015125.1_ASM1512v1: 31 hits\n",
      "GCF_000016085.1_ASM1608v1: 34 hits\n",
      "GCF_000020465.1_ASM2046v1: 31 hits\n",
      "GCF_000020505.1_ASM2050v1: 30 hits\n",
      "GCF_000020525.1_ASM2052v1: 33 hits\n",
      "GCF_000020545.1_ASM2054v1: 32 hits\n",
      "GCF_000020625.1_ASM2062v1: 31 hits\n",
      "GCF_000020645.1_ASM2064v1: 31 hits\n",
      "GCF_001687065.1_ASM168706v1: 33 hits\n",
      "GCF_001747405.1_ASM174740v1: 30 hits\n",
      "GCF_002113825.1_ASM211382v1: 32 hits\n",
      "GCF_002240205.1_ASM224020v1: 32 hits\n",
      "GCF_000006985.1_ASM698v1: 30 hits\n"
     ]
    }
   ],
   "source": [
    "# parse blast results into dataframes and ouptput sequences results to fasta files\n",
    "# files have same extension as input dbs\n",
    "\n",
    "os.chdir(odir)\n",
    "\n",
    "dfs = {}\n",
    "header = ['query acc.ver', 'subject acc.ver', '% identity', 'alignment length', 'mismatches',\\\n",
    "          'gap opens', 'q. start', 'q. end', 's. start', 's. end', 'evalue', 'bit score']\n",
    "\n",
    "def find_fasta(name):\n",
    "    for f in os.listdir(blastdir):\n",
    "        if f.startswith(name):\n",
    "            return f\n",
    "    \n",
    "    \n",
    "for outfile in os.listdir(): # read outputs into dataframes\n",
    "    if outfile.endswith('.out'):\n",
    "        name = outfile.split('_vs_')[1].split('.out')[0]\n",
    "        dfs[name] = pd.read_table(outfile, names=header)\n",
    "        dfs[name] = dfs[name][((dfs[name]['% identity'] >= 80)|(dfs[name]['evalue'] < 0.05))] # filter for e value or identity\n",
    "        print(name + ': ' + str(len(dfs[name])) + ' hits')\n",
    "        \n",
    "        # write sequences to output fasta\n",
    "        fasta = fastadir + name + ext\n",
    "        records = []\n",
    "        with open(fasta, 'w') as ofasta, open(blastdir + find_fasta(name), 'r') as ifasta:\n",
    "            for record in SeqIO.parse(ifasta, 'fasta'):\n",
    "                for index, row in dfs[name].iterrows(): \n",
    "                    if row['subject acc.ver'] == record.id:\n",
    "                        records.append(record)\n",
    "            SeqIO.write(records, ofasta, 'fasta')\n",
    "        "
   ]
  },
  {
   "cell_type": "code",
   "execution_count": 90,
   "metadata": {},
   "outputs": [
    {
     "name": "stdout",
     "output_type": "stream",
     "text": [
      "GCF_000012485.1_ASM1248v1.faa\n",
      "L2: 0\n",
      "GCF_000012585.1_ASM1258v1.faa\n",
      "GCF_000015125.1_ASM1512v1.faa\n",
      "GCF_000016085.1_ASM1608v1.faa\n",
      "GCF_000020465.1_ASM2046v1.faa\n",
      "L29: 0\n",
      "GCF_000020505.1_ASM2050v1.faa\n",
      "L22: 0\n",
      "GCF_000020525.1_ASM2052v1.faa\n",
      "GCF_000020545.1_ASM2054v1.faa\n",
      "GCF_000020625.1_ASM2062v1.faa\n",
      "GCF_000020645.1_ASM2064v1.faa\n",
      "L29: 0\n",
      "GCF_001687065.1_ASM168706v1.faa\n",
      "GCF_001747405.1_ASM174740v1.faa\n",
      "GCF_002113825.1_ASM211382v1.faa\n",
      "S13: 0\n",
      "GCF_002240205.1_ASM224020v1.faa\n",
      "GCF_000006985.1_ASM698v1.faa\n"
     ]
    }
   ],
   "source": [
    "# optional: check for riboprots and rename according to taxid\n",
    "# my normal rprot format is rprots_TAXID_ASSEMBLY.fasta\n",
    "\n",
    "os.chdir(fastadir)\n",
    "rprots = pd.read_csv('/home/ecutts/metadata/rprots.txt', header = None)[0].tolist()\n",
    "\n",
    "# read NCBI assembly reports\n",
    "def read_report(report):\n",
    "    assembly_report = open(report, 'r')\n",
    "\n",
    "    while True:\n",
    "        line = assembly_report.readline()\n",
    "        if not line:\n",
    "            break\n",
    "\n",
    "        if 'Organism name' in line: \n",
    "            name = line.split('Organism name:  ')[1][:-1]\n",
    "            name = name.split(' (')[0].replace(' ', '_')\n",
    "\n",
    "        if 'GenBank assembly accession' in line:\n",
    "            genbank_acc = line.split(' GenBank assembly accession: ')[1][:-1]\n",
    "\n",
    "        if 'Taxid' in line:\n",
    "            taxid = line.split('Taxid:          ')[1][:-1]\n",
    "    \n",
    "    return {'name': name, 'taxid': taxid, 'genbank': genbank_acc}\n",
    "\n",
    "def find_report(d):\n",
    "    for f in os.listdir(d):\n",
    "        if f.endswith('assembly_report.txt'):\n",
    "            return f\n",
    "\n",
    "def get_taxid(searchdir):\n",
    "    return read_report(searchdir + '/' + find_report(searchdir))['taxid']\n",
    "    \n",
    "\n",
    "for f in os.listdir():\n",
    "    print(f)\n",
    "    assembly =f.split('_')[0] + '_' + f.split('_')[1]\n",
    "    searchdir = '/home/ecutts/Bacteroidetes/Chlorobi/refseq/bacteria/' + assembly\n",
    "    taxid = get_taxid(searchdir)\n",
    "    name = 'rprots_' + taxid + '_' + assembly + '.fasta'\n",
    "    records = []\n",
    "    counts = {}\n",
    "    with open(f, 'r') as fasta, open(name, 'w') as outfasta:\n",
    "        counts = dict.fromkeys(rprots)\n",
    "        for prot in counts:\n",
    "            counts[prot] = 0\n",
    "        for record in SeqIO.parse(fasta, 'fasta'):\n",
    "            if 'ribosomal protein' in record.description:\n",
    "                prot = record.description.split('protein ')[1].split(' [')[0]\n",
    "                counts[prot] += 1\n",
    "                records.append(record)\n",
    "        SeqIO.write(records, outfasta, 'fasta')\n",
    "        \n",
    "        for key in counts.keys():\n",
    "            if counts[key] != 1:\n",
    "                print(key + ': ' + str(counts[key]))"
   ]
  },
  {
   "cell_type": "code",
   "execution_count": null,
   "metadata": {},
   "outputs": [],
   "source": []
  }
 ],
 "metadata": {
  "kernelspec": {
   "display_name": "Python 3",
   "language": "python",
   "name": "python3"
  },
  "language_info": {
   "codemirror_mode": {
    "name": "ipython",
    "version": 3
   },
   "file_extension": ".py",
   "mimetype": "text/x-python",
   "name": "python",
   "nbconvert_exporter": "python",
   "pygments_lexer": "ipython3",
   "version": "3.6.12"
  }
 },
 "nbformat": 4,
 "nbformat_minor": 4
}
