{
 "cells": [
  {
   "cell_type": "markdown",
   "metadata": {},
   "source": [
    "Run after dbCAN if there are errors due to formatting of the .gff file. These are common if there is an extra semicolon"
   ]
  },
  {
   "cell_type": "code",
   "execution_count": 14,
   "metadata": {},
   "outputs": [],
   "source": [
    "import pandas as pd\n",
    "import os, shutil"
   ]
  },
  {
   "cell_type": "code",
   "execution_count": 15,
   "metadata": {
    "scrolled": true
   },
   "outputs": [
    {
     "name": "stdout",
     "output_type": "stream",
     "text": [
      "run_dbcan2_1.out\n",
      "Traceback (most recent call last):\n",
      "\n",
      "  File \"run_dbcan.py\", line 435, in <module>\n",
      "\n",
      "    notes[temp[0]] = temp[1]\n",
      "\n",
      "IndexError: list index out of range\n",
      "\n",
      "run_dbcan2_3.out\n",
      "Traceback (most recent call last):\n",
      "\n",
      "  File \"run_dbcan.py\", line 435, in <module>\n",
      "\n",
      "    notes[temp[0]] = temp[1]\n",
      "\n",
      "IndexError: list index out of range\n",
      "\n",
      "run_dbcan2_5.out\n",
      "Traceback (most recent call last):\n",
      "\n",
      "  File \"run_dbcan.py\", line 435, in <module>\n",
      "\n",
      "    notes[temp[0]] = temp[1]\n",
      "\n",
      "IndexError: list index out of range\n",
      "\n",
      "run_dbcan2_6.out\n",
      "Traceback (most recent call last):\n",
      "\n",
      "  File \"run_dbcan.py\", line 435, in <module>\n",
      "\n",
      "    notes[temp[0]] = temp[1]\n",
      "\n",
      "IndexError: list index out of range\n",
      "\n",
      "run_dbcan2_7.out\n",
      "Traceback (most recent call last):\n",
      "\n",
      "  File \"run_dbcan.py\", line 435, in <module>\n",
      "\n",
      "    notes[temp[0]] = temp[1]\n",
      "\n",
      "IndexError: list index out of range\n",
      "\n",
      "run_dbcan2_9.out\n",
      "Traceback (most recent call last):\n",
      "\n",
      "  File \"run_dbcan.py\", line 435, in <module>\n",
      "\n",
      "    notes[temp[0]] = temp[1]\n",
      "\n",
      "IndexError: list index out of range\n",
      "\n",
      "run_dbcan2_8.out\n",
      "Traceback (most recent call last):\n",
      "\n",
      "  File \"run_dbcan.py\", line 435, in <module>\n",
      "\n",
      "    notes[temp[0]] = temp[1]\n",
      "\n",
      "IndexError: list index out of range\n",
      "\n"
     ]
    }
   ],
   "source": [
    "outfile_d = '/home/ecutts/dbCAN/outlogs/'\n",
    "os.chdir(outfile_d)\n",
    "problems = []\n",
    "names = []\n",
    "for f in os.listdir():\n",
    "    if f.startswith('run_dbcan2'):\n",
    "        file = open(f, \"r\")\n",
    "        count = 0\n",
    "        for aline in file:\n",
    "            if count > 0:\n",
    "                isPrinting = True\n",
    "            else:\n",
    "                isPrinting = False\n",
    "            if aline.startswith('Traceback'): # this means there was an error\n",
    "                print(f)\n",
    "                print(aline)\n",
    "                problems.append(f)\n",
    "                count = 4\n",
    "            if aline.endswith('.faa'):\n",
    "                names.append(aline)\n",
    "            if isPrinting:\n",
    "                print(aline)\n",
    "            count = count - 1"
   ]
  },
  {
   "cell_type": "code",
   "execution_count": 23,
   "metadata": {},
   "outputs": [
    {
     "name": "stdout",
     "output_type": "stream",
     "text": [
      "2806310565\n",
      "2806310567\n",
      "2806310581\n",
      "2806310582\n",
      "2806310583\n",
      "2806310585\n",
      "2806310584\n"
     ]
    }
   ],
   "source": [
    "#problems.remove('run_dbcan_3.out') # fixed this one manually.\n",
    "\n",
    "# find and replace the rows in the gff file that have a stray semicolon.\n",
    "# may need to be edited more specifically depending on your issues.\n",
    "os.chdir('/home/ecutts/dbCAN')\n",
    "genomes = pd.read_table('input/magslist.txt', header=None)\n",
    "for p in problems:\n",
    "    num = int(p.split('_')[2].split('.out')[0]) -1 \n",
    "    genome = str(genomes.at[num,0])\n",
    "    print(genome)\n",
    "    gff = open('./input/' + genome + '.gff', \"r\")\n",
    "    newgff = open('./input/' + genome + '_new.gff', \"w\")\n",
    "    for line in gff:\n",
    "        if line.startswith('#'):\n",
    "            newgff.write(line)\n",
    "        else:\n",
    "            row = line.rstrip().split('\\t')\n",
    "            if row[2] == \"CDS\":\n",
    "                note = row[8].split(\";\")\n",
    "                gene = \"\"\n",
    "                notes = {}\n",
    "                for x in note:\n",
    "                    temp = x.split('=')\n",
    "                    try:\n",
    "                        notes[temp[0]] = temp[1]\n",
    "                        newgff.write(line)\n",
    "                    except:\n",
    "                        print(line)\n",
    "                        newline = line.replace('; ', ', ')\n",
    "                        newgff.write(line)\n",
    "\n",
    "    os.remove('./input/' + genome + '.gff')\n",
    "    os.rename('./input/' + genome + '_new.gff', './input/' + genome + '.gff')"
   ]
  },
  {
   "cell_type": "code",
   "execution_count": 26,
   "metadata": {},
   "outputs": [
    {
     "name": "stdout",
     "output_type": "stream",
     "text": [
      "2806310565\n",
      "2806310567\n",
      "2806310581\n",
      "2806310582\n",
      "2806310583\n",
      "2806310585\n",
      "2806310584\n"
     ]
    }
   ],
   "source": [
    "# make list of inputs, gffs, and filenames for running dbCAN:\n",
    "inputs = open('./input/inputs3.txt', 'w')\n",
    "gffs = open('./input/gffs3.txt', \"w\")\n",
    "magslist = open('./input/magslist3.txt', \"w\")\n",
    "\n",
    "for p in problems:\n",
    "    num = int(p.split('_')[2].split('.out')[0]) -1 \n",
    "    genome = str(genomes.at[num,0])\n",
    "    print(genome)\n",
    "    inputs.write(genome + '.genes.faa' + '\\n')\n",
    "    gffs.write(genome + '.gff' + '\\n')\n",
    "    magslist.write(genome + '\\n')"
   ]
  },
  {
   "cell_type": "code",
   "execution_count": 25,
   "metadata": {},
   "outputs": [
    {
     "name": "stdout",
     "output_type": "stream",
     "text": [
      "7\n"
     ]
    }
   ],
   "source": [
    "print(len(problems))"
   ]
  },
  {
   "cell_type": "code",
   "execution_count": null,
   "metadata": {},
   "outputs": [],
   "source": [
    "# go edit sbatch script to rerun the problem files."
   ]
  }
 ],
 "metadata": {
  "kernelspec": {
   "display_name": "Python 3",
   "language": "python",
   "name": "python3"
  },
  "language_info": {
   "codemirror_mode": {
    "name": "ipython",
    "version": 3
   },
   "file_extension": ".py",
   "mimetype": "text/x-python",
   "name": "python",
   "nbconvert_exporter": "python",
   "pygments_lexer": "ipython3",
   "version": "3.6.12"
  }
 },
 "nbformat": 4,
 "nbformat_minor": 4
}
