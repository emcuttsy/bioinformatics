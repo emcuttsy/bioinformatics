{
 "cells": [
  {
   "cell_type": "code",
   "execution_count": 1,
   "metadata": {},
   "outputs": [],
   "source": [
    "import os\n",
    "from subprocess import run\n",
    "from subprocess import PIPE\n",
    "from Bio import "
   ]
  },
  {
   "cell_type": "code",
   "execution_count": 2,
   "metadata": {},
   "outputs": [],
   "source": [
    "blast = '/cm/shared/engaging/ncbi-blast/2.6.0+/bin/'"
   ]
  },
  {
   "cell_type": "code",
   "execution_count": 5,
   "metadata": {},
   "outputs": [],
   "source": [
    "os.chdir('MAGs/blastdb/')"
   ]
  },
  {
   "cell_type": "code",
   "execution_count": 6,
   "metadata": {},
   "outputs": [
    {
     "data": {
      "text/plain": [
       "['concatenated-proteins.fa',\n",
       " 'SB_biofilm_MAG_11.fa',\n",
       " 'SB_biofilm_MAG_14.fa',\n",
       " 'SB_biofilm_MAG_15.fa',\n",
       " 'SB_biofilm_MAG_1.fa',\n",
       " 'SB_biofilm_MAG_2.fa',\n",
       " 'SB_biofilm_MAG_39.fa',\n",
       " 'SB_biofilm_MAG_3.fa',\n",
       " 'SB_biofilm_MAG_42.fa',\n",
       " 'SB_biofilm_MAG_45.fa',\n",
       " 'SB_biofilm_MAG_46.fa',\n",
       " 'SB_biofilm_MAG_4.fa',\n",
       " 'SB_biofilm_MAG_55.fa',\n",
       " 'SB_biofilm_MAG_56.fa',\n",
       " 'SB_biofilm_MAG_5.fa',\n",
       " 'SB_biofilm_MAG_62.fa',\n",
       " 'SB_biofilm_MAG_69.fa',\n",
       " 'SB_biofilm_MAG_6.fa',\n",
       " 'SB_biofilm_MAG_81.fa',\n",
       " 'SB_biofilm_MAG_83.fa',\n",
       " 'SB_biofilm_MAG_84.fa']"
      ]
     },
     "execution_count": 6,
     "metadata": {},
     "output_type": "execute_result"
    }
   ],
   "source": [
    "os.listdir()"
   ]
  },
  {
   "cell_type": "code",
   "execution_count": 7,
   "metadata": {},
   "outputs": [],
   "source": [
    "os.remove('concatenated-proteins.fa') # just a little housekeeping"
   ]
  },
  {
   "cell_type": "code",
   "execution_count": 16,
   "metadata": {},
   "outputs": [
    {
     "name": "stdout",
     "output_type": "stream",
     "text": [
      "(CompletedProcess(args=['/cm/shared/engaging/ncbi-blast/2.6.0+/bin/makeblastdb', '-in', 'SB_biofilm_MAG_11.fa', '-parse_seqids', '-dbtype', 'nucl', '-out', 'SB_biofilm_MAG_11.fa'], returncode=0, stdout='\\n\\nBuilding a new DB, current time: 12/15/2020 13:02:06\\nNew DB name:   /home/ecutts/Bacteroidetes/MAGs/blastdb/SB_biofilm_MAG_11.fa\\nNew DB title:  SB_biofilm_MAG_11.fa\\nSequence type: Nucleotide\\nDeleted existing Nucleotide BLAST database named /home/ecutts/Bacteroidetes/MAGs/blastdb/SB_biofilm_MAG_11.fa\\nKeep MBits: T\\nMaximum file size: 1000000000B\\nAdding sequences from FASTA; added 49 sequences in 0.127498 seconds.\\n'),)\n",
      "(CompletedProcess(args=['/cm/shared/engaging/ncbi-blast/2.6.0+/bin/makeblastdb', '-in', 'SB_biofilm_MAG_14.fa', '-parse_seqids', '-dbtype', 'nucl', '-out', 'SB_biofilm_MAG_14.fa'], returncode=0, stdout='\\n\\nBuilding a new DB, current time: 12/15/2020 13:02:07\\nNew DB name:   /home/ecutts/Bacteroidetes/MAGs/blastdb/SB_biofilm_MAG_14.fa\\nNew DB title:  SB_biofilm_MAG_14.fa\\nSequence type: Nucleotide\\nKeep MBits: T\\nMaximum file size: 1000000000B\\nAdding sequences from FASTA; added 175 sequences in 0.156537 seconds.\\n'),)\n",
      "(CompletedProcess(args=['/cm/shared/engaging/ncbi-blast/2.6.0+/bin/makeblastdb', '-in', 'SB_biofilm_MAG_15.fa', '-parse_seqids', '-dbtype', 'nucl', '-out', 'SB_biofilm_MAG_15.fa'], returncode=0, stdout='\\n\\nBuilding a new DB, current time: 12/15/2020 13:02:07\\nNew DB name:   /home/ecutts/Bacteroidetes/MAGs/blastdb/SB_biofilm_MAG_15.fa\\nNew DB title:  SB_biofilm_MAG_15.fa\\nSequence type: Nucleotide\\nKeep MBits: T\\nMaximum file size: 1000000000B\\nAdding sequences from FASTA; added 149 sequences in 0.0974591 seconds.\\n'),)\n",
      "(CompletedProcess(args=['/cm/shared/engaging/ncbi-blast/2.6.0+/bin/makeblastdb', '-in', 'SB_biofilm_MAG_1.fa', '-parse_seqids', '-dbtype', 'nucl', '-out', 'SB_biofilm_MAG_1.fa'], returncode=0, stdout='\\n\\nBuilding a new DB, current time: 12/15/2020 13:02:08\\nNew DB name:   /home/ecutts/Bacteroidetes/MAGs/blastdb/SB_biofilm_MAG_1.fa\\nNew DB title:  SB_biofilm_MAG_1.fa\\nSequence type: Nucleotide\\nKeep MBits: T\\nMaximum file size: 1000000000B\\nAdding sequences from FASTA; added 48 sequences in 0.184794 seconds.\\n'),)\n",
      "(CompletedProcess(args=['/cm/shared/engaging/ncbi-blast/2.6.0+/bin/makeblastdb', '-in', 'SB_biofilm_MAG_2.fa', '-parse_seqids', '-dbtype', 'nucl', '-out', 'SB_biofilm_MAG_2.fa'], returncode=0, stdout='\\n\\nBuilding a new DB, current time: 12/15/2020 13:02:08\\nNew DB name:   /home/ecutts/Bacteroidetes/MAGs/blastdb/SB_biofilm_MAG_2.fa\\nNew DB title:  SB_biofilm_MAG_2.fa\\nSequence type: Nucleotide\\nKeep MBits: T\\nMaximum file size: 1000000000B\\nAdding sequences from FASTA; added 31 sequences in 0.107876 seconds.\\n'),)\n",
      "(CompletedProcess(args=['/cm/shared/engaging/ncbi-blast/2.6.0+/bin/makeblastdb', '-in', 'SB_biofilm_MAG_39.fa', '-parse_seqids', '-dbtype', 'nucl', '-out', 'SB_biofilm_MAG_39.fa'], returncode=0, stdout='\\n\\nBuilding a new DB, current time: 12/15/2020 13:02:08\\nNew DB name:   /home/ecutts/Bacteroidetes/MAGs/blastdb/SB_biofilm_MAG_39.fa\\nNew DB title:  SB_biofilm_MAG_39.fa\\nSequence type: Nucleotide\\nKeep MBits: T\\nMaximum file size: 1000000000B\\nAdding sequences from FASTA; added 275 sequences in 0.1067 seconds.\\n'),)\n",
      "(CompletedProcess(args=['/cm/shared/engaging/ncbi-blast/2.6.0+/bin/makeblastdb', '-in', 'SB_biofilm_MAG_3.fa', '-parse_seqids', '-dbtype', 'nucl', '-out', 'SB_biofilm_MAG_3.fa'], returncode=0, stdout='\\n\\nBuilding a new DB, current time: 12/15/2020 13:02:09\\nNew DB name:   /home/ecutts/Bacteroidetes/MAGs/blastdb/SB_biofilm_MAG_3.fa\\nNew DB title:  SB_biofilm_MAG_3.fa\\nSequence type: Nucleotide\\nKeep MBits: T\\nMaximum file size: 1000000000B\\nAdding sequences from FASTA; added 20 sequences in 0.0962369 seconds.\\n'),)\n",
      "(CompletedProcess(args=['/cm/shared/engaging/ncbi-blast/2.6.0+/bin/makeblastdb', '-in', 'SB_biofilm_MAG_42.fa', '-parse_seqids', '-dbtype', 'nucl', '-out', 'SB_biofilm_MAG_42.fa'], returncode=0, stdout='\\n\\nBuilding a new DB, current time: 12/15/2020 13:02:09\\nNew DB name:   /home/ecutts/Bacteroidetes/MAGs/blastdb/SB_biofilm_MAG_42.fa\\nNew DB title:  SB_biofilm_MAG_42.fa\\nSequence type: Nucleotide\\nKeep MBits: T\\nMaximum file size: 1000000000B\\nAdding sequences from FASTA; added 368 sequences in 0.0750051 seconds.\\n'),)\n",
      "(CompletedProcess(args=['/cm/shared/engaging/ncbi-blast/2.6.0+/bin/makeblastdb', '-in', 'SB_biofilm_MAG_45.fa', '-parse_seqids', '-dbtype', 'nucl', '-out', 'SB_biofilm_MAG_45.fa'], returncode=0, stdout='\\n\\nBuilding a new DB, current time: 12/15/2020 13:02:09\\nNew DB name:   /home/ecutts/Bacteroidetes/MAGs/blastdb/SB_biofilm_MAG_45.fa\\nNew DB title:  SB_biofilm_MAG_45.fa\\nSequence type: Nucleotide\\nKeep MBits: T\\nMaximum file size: 1000000000B\\nAdding sequences from FASTA; added 348 sequences in 0.115964 seconds.\\n'),)\n",
      "(CompletedProcess(args=['/cm/shared/engaging/ncbi-blast/2.6.0+/bin/makeblastdb', '-in', 'SB_biofilm_MAG_46.fa', '-parse_seqids', '-dbtype', 'nucl', '-out', 'SB_biofilm_MAG_46.fa'], returncode=0, stdout='\\n\\nBuilding a new DB, current time: 12/15/2020 13:02:09\\nNew DB name:   /home/ecutts/Bacteroidetes/MAGs/blastdb/SB_biofilm_MAG_46.fa\\nNew DB title:  SB_biofilm_MAG_46.fa\\nSequence type: Nucleotide\\nKeep MBits: T\\nMaximum file size: 1000000000B\\nAdding sequences from FASTA; added 663 sequences in 0.1176 seconds.\\n'),)\n",
      "(CompletedProcess(args=['/cm/shared/engaging/ncbi-blast/2.6.0+/bin/makeblastdb', '-in', 'SB_biofilm_MAG_4.fa', '-parse_seqids', '-dbtype', 'nucl', '-out', 'SB_biofilm_MAG_4.fa'], returncode=0, stdout='\\n\\nBuilding a new DB, current time: 12/15/2020 13:02:09\\nNew DB name:   /home/ecutts/Bacteroidetes/MAGs/blastdb/SB_biofilm_MAG_4.fa\\nNew DB title:  SB_biofilm_MAG_4.fa\\nSequence type: Nucleotide\\nKeep MBits: T\\nMaximum file size: 1000000000B\\nAdding sequences from FASTA; added 85 sequences in 0.115257 seconds.\\n'),)\n",
      "(CompletedProcess(args=['/cm/shared/engaging/ncbi-blast/2.6.0+/bin/makeblastdb', '-in', 'SB_biofilm_MAG_55.fa', '-parse_seqids', '-dbtype', 'nucl', '-out', 'SB_biofilm_MAG_55.fa'], returncode=0, stdout='\\n\\nBuilding a new DB, current time: 12/15/2020 13:02:10\\nNew DB name:   /home/ecutts/Bacteroidetes/MAGs/blastdb/SB_biofilm_MAG_55.fa\\nNew DB title:  SB_biofilm_MAG_55.fa\\nSequence type: Nucleotide\\nKeep MBits: T\\nMaximum file size: 1000000000B\\nAdding sequences from FASTA; added 442 sequences in 0.113692 seconds.\\n'),)\n",
      "(CompletedProcess(args=['/cm/shared/engaging/ncbi-blast/2.6.0+/bin/makeblastdb', '-in', 'SB_biofilm_MAG_56.fa', '-parse_seqids', '-dbtype', 'nucl', '-out', 'SB_biofilm_MAG_56.fa'], returncode=0, stdout='\\n\\nBuilding a new DB, current time: 12/15/2020 13:02:10\\nNew DB name:   /home/ecutts/Bacteroidetes/MAGs/blastdb/SB_biofilm_MAG_56.fa\\nNew DB title:  SB_biofilm_MAG_56.fa\\nSequence type: Nucleotide\\nKeep MBits: T\\nMaximum file size: 1000000000B\\nAdding sequences from FASTA; added 718 sequences in 0.104352 seconds.\\n'),)\n",
      "(CompletedProcess(args=['/cm/shared/engaging/ncbi-blast/2.6.0+/bin/makeblastdb', '-in', 'SB_biofilm_MAG_5.fa', '-parse_seqids', '-dbtype', 'nucl', '-out', 'SB_biofilm_MAG_5.fa'], returncode=0, stdout='\\n\\nBuilding a new DB, current time: 12/15/2020 13:02:11\\nNew DB name:   /home/ecutts/Bacteroidetes/MAGs/blastdb/SB_biofilm_MAG_5.fa\\nNew DB title:  SB_biofilm_MAG_5.fa\\nSequence type: Nucleotide\\nKeep MBits: T\\nMaximum file size: 1000000000B\\nAdding sequences from FASTA; added 107 sequences in 0.58836 seconds.\\n'),)\n",
      "(CompletedProcess(args=['/cm/shared/engaging/ncbi-blast/2.6.0+/bin/makeblastdb', '-in', 'SB_biofilm_MAG_62.fa', '-parse_seqids', '-dbtype', 'nucl', '-out', 'SB_biofilm_MAG_62.fa'], returncode=0, stdout='\\n\\nBuilding a new DB, current time: 12/15/2020 13:02:11\\nNew DB name:   /home/ecutts/Bacteroidetes/MAGs/blastdb/SB_biofilm_MAG_62.fa\\nNew DB title:  SB_biofilm_MAG_62.fa\\nSequence type: Nucleotide\\nKeep MBits: T\\nMaximum file size: 1000000000B\\nAdding sequences from FASTA; added 518 sequences in 0.353448 seconds.\\n'),)\n",
      "(CompletedProcess(args=['/cm/shared/engaging/ncbi-blast/2.6.0+/bin/makeblastdb', '-in', 'SB_biofilm_MAG_69.fa', '-parse_seqids', '-dbtype', 'nucl', '-out', 'SB_biofilm_MAG_69.fa'], returncode=0, stdout='\\n\\nBuilding a new DB, current time: 12/15/2020 13:02:12\\nNew DB name:   /home/ecutts/Bacteroidetes/MAGs/blastdb/SB_biofilm_MAG_69.fa\\nNew DB title:  SB_biofilm_MAG_69.fa\\nSequence type: Nucleotide\\nKeep MBits: T\\nMaximum file size: 1000000000B\\nAdding sequences from FASTA; added 715 sequences in 0.0992868 seconds.\\n'),)\n"
     ]
    },
    {
     "name": "stdout",
     "output_type": "stream",
     "text": [
      "(CompletedProcess(args=['/cm/shared/engaging/ncbi-blast/2.6.0+/bin/makeblastdb', '-in', 'SB_biofilm_MAG_6.fa', '-parse_seqids', '-dbtype', 'nucl', '-out', 'SB_biofilm_MAG_6.fa'], returncode=0, stdout='\\n\\nBuilding a new DB, current time: 12/15/2020 13:02:12\\nNew DB name:   /home/ecutts/Bacteroidetes/MAGs/blastdb/SB_biofilm_MAG_6.fa\\nNew DB title:  SB_biofilm_MAG_6.fa\\nSequence type: Nucleotide\\nKeep MBits: T\\nMaximum file size: 1000000000B\\nAdding sequences from FASTA; added 37 sequences in 0.141682 seconds.\\n'),)\n",
      "(CompletedProcess(args=['/cm/shared/engaging/ncbi-blast/2.6.0+/bin/makeblastdb', '-in', 'SB_biofilm_MAG_81.fa', '-parse_seqids', '-dbtype', 'nucl', '-out', 'SB_biofilm_MAG_81.fa'], returncode=0, stdout='\\n\\nBuilding a new DB, current time: 12/15/2020 13:02:13\\nNew DB name:   /home/ecutts/Bacteroidetes/MAGs/blastdb/SB_biofilm_MAG_81.fa\\nNew DB title:  SB_biofilm_MAG_81.fa\\nSequence type: Nucleotide\\nKeep MBits: T\\nMaximum file size: 1000000000B\\nAdding sequences from FASTA; added 574 sequences in 0.14239 seconds.\\n'),)\n",
      "(CompletedProcess(args=['/cm/shared/engaging/ncbi-blast/2.6.0+/bin/makeblastdb', '-in', 'SB_biofilm_MAG_83.fa', '-parse_seqids', '-dbtype', 'nucl', '-out', 'SB_biofilm_MAG_83.fa'], returncode=0, stdout='\\n\\nBuilding a new DB, current time: 12/15/2020 13:02:13\\nNew DB name:   /home/ecutts/Bacteroidetes/MAGs/blastdb/SB_biofilm_MAG_83.fa\\nNew DB title:  SB_biofilm_MAG_83.fa\\nSequence type: Nucleotide\\nKeep MBits: T\\nMaximum file size: 1000000000B\\nAdding sequences from FASTA; added 402 sequences in 0.059757 seconds.\\n'),)\n",
      "(CompletedProcess(args=['/cm/shared/engaging/ncbi-blast/2.6.0+/bin/makeblastdb', '-in', 'SB_biofilm_MAG_84.fa', '-parse_seqids', '-dbtype', 'nucl', '-out', 'SB_biofilm_MAG_84.fa'], returncode=0, stdout='\\n\\nBuilding a new DB, current time: 12/15/2020 13:02:13\\nNew DB name:   /home/ecutts/Bacteroidetes/MAGs/blastdb/SB_biofilm_MAG_84.fa\\nNew DB title:  SB_biofilm_MAG_84.fa\\nSequence type: Nucleotide\\nKeep MBits: T\\nMaximum file size: 1000000000B\\nAdding sequences from FASTA; added 690 sequences in 0.0717442 seconds.\\n'),)\n"
     ]
    }
   ],
   "source": [
    "for nfasta in os.listdir():\n",
    "    if nfasta.endswith('.fa'):\n",
    "        p = run([ blast + 'makeblastdb', '-in', nfasta, \\\n",
    "                 '-parse_seqids', '-dbtype', 'nucl', '-out', nfasta], stdout = PIPE, universal_newlines=True),\n",
    "        print(p)"
   ]
  },
  {
   "cell_type": "code",
   "execution_count": 24,
   "metadata": {},
   "outputs": [
    {
     "name": "stdout",
     "output_type": "stream",
     "text": [
      "140\n"
     ]
    }
   ],
   "source": [
    "print(len(os.listdir()))"
   ]
  },
  {
   "cell_type": "code",
   "execution_count": 25,
   "metadata": {},
   "outputs": [
    {
     "data": {
      "text/plain": [
       "7.0"
      ]
     },
     "execution_count": 25,
     "metadata": {},
     "output_type": "execute_result"
    }
   ],
   "source": [
    "140/20"
   ]
  },
  {
   "cell_type": "code",
   "execution_count": null,
   "metadata": {},
   "outputs": [],
   "source": [
    "# there are 7 files making a nucleotide database so that checks out."
   ]
  },
  {
   "cell_type": "markdown",
   "metadata": {},
   "source": [
    "# Blast for rproteins against concatenated alignment"
   ]
  },
  {
   "cell_type": "code",
   "execution_count": 29,
   "metadata": {},
   "outputs": [],
   "source": [
    "tblastn = blast + 'tblastn'"
   ]
  },
  {
   "cell_type": "code",
   "execution_count": 31,
   "metadata": {},
   "outputs": [
    {
     "name": "stdout",
     "output_type": "stream",
     "text": [
      "\n"
     ]
    }
   ],
   "source": [
    "p = run([tblastn, '-query', 'queries/bfragilis-30rprots.faa',\\\n",
    "         '-db', 'SB_biofilm_MAG_1.fa', '-out', 'results/test.out',\\\n",
    "        '-outfmt', '7'], \\\n",
    "        stdout=PIPE, universal_newlines=True)\n",
    "print(p.stdout)"
   ]
  },
  {
   "cell_type": "code",
   "execution_count": 32,
   "metadata": {},
   "outputs": [
    {
     "ename": "ModuleNotFoundError",
     "evalue": "No module named 'pandas'",
     "output_type": "error",
     "traceback": [
      "\u001b[0;31m---------------------------------------------------------------------------\u001b[0m",
      "\u001b[0;31mModuleNotFoundError\u001b[0m                       Traceback (most recent call last)",
      "\u001b[0;32m<ipython-input-32-22cf0e12351f>\u001b[0m in \u001b[0;36m<module>\u001b[0;34m\u001b[0m\n\u001b[0;32m----> 1\u001b[0;31m \u001b[0;32mimport\u001b[0m \u001b[0mpandas\u001b[0m \u001b[0;32mas\u001b[0m \u001b[0mpd\u001b[0m\u001b[0;34m\u001b[0m\u001b[0;34m\u001b[0m\u001b[0m\n\u001b[0m\u001b[1;32m      2\u001b[0m header = ['query acc.ver', 'subject acc.ver', '% identity', 'alignment length', 'mismatches',\\\n\u001b[1;32m      3\u001b[0m           'gap opens', 'q. start', 'q. end', 's. start', 's. end', 'evalue', 'bit score']\n",
      "\u001b[0;31mModuleNotFoundError\u001b[0m: No module named 'pandas'"
     ]
    }
   ],
   "source": [
    "header = ['query acc.ver', 'subject acc.ver', '% identity', 'alignment length', 'mismatches',\\\n",
    "          'gap opens', 'q. start', 'q. end', 's. start', 's. end', 'evalue', 'bit score']"
   ]
  },
  {
   "cell_type": "code",
   "execution_count": null,
   "metadata": {},
   "outputs": [],
   "source": []
  }
 ],
 "metadata": {
  "kernelspec": {
   "display_name": "Python 3",
   "language": "python",
   "name": "python3"
  },
  "language_info": {
   "codemirror_mode": {
    "name": "ipython",
    "version": 3
   },
   "file_extension": ".py",
   "mimetype": "text/x-python",
   "name": "python",
   "nbconvert_exporter": "python",
   "pygments_lexer": "ipython3",
   "version": "3.6.12"
  }
 },
 "nbformat": 4,
 "nbformat_minor": 4
}
