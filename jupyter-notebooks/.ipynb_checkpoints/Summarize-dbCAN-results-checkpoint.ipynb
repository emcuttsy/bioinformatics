{
 "cells": [
  {
   "cell_type": "code",
   "execution_count": 3,
   "metadata": {},
   "outputs": [],
   "source": [
    "import numpy, os\n",
    "import pandas as pd"
   ]
  },
  {
   "cell_type": "markdown",
   "metadata": {},
   "source": [
    "# Summarize dbCAN results\n",
    "This notebook walks through making a heatmap summarizing the output of a dbCAN run on a set of metagenomes.\n",
    "\n",
    "**Input:** A directory of directories, each containing the output of a dbCAN run on a metagenome."
   ]
  },
  {
   "cell_type": "code",
   "execution_count": 5,
   "metadata": {},
   "outputs": [],
   "source": [
    "output_dir = '/home/ecutts/dbCAN/output/''\n",
    "os.chdir(output_dir) # output directory"
   ]
  },
  {
   "cell_type": "code",
   "execution_count": 6,
   "metadata": {
    "scrolled": true
   },
   "outputs": [],
   "source": [
    "# A table used to map filenames to human-readable genome names\n",
    "metadata = pd.read_table('/home/ecutts/metadata/mags-meta.xls')"
   ]
  },
  {
   "cell_type": "code",
   "execution_count": 31,
   "metadata": {},
   "outputs": [
    {
     "name": "stdout",
     "output_type": "stream",
     "text": [
      "2806310602\n",
      "2808607000\n",
      "2808607006\n",
      "2808607007\n",
      "2808607009\n",
      "2808607016\n",
      "2808607018\n"
     ]
    }
   ],
   "source": [
    "def get_overview(genome_dir):\n",
    "    overview_file = os.path.join(genome_dir, 'overview.txt')\n",
    "    overview = pd.read_table(overview_file)\n",
    "    return overview\n",
    "\n",
    "def remove_HMMER_bounds(df):\n",
    "    df['HMMER'] = df['HMMER'].str.split('(', expand=True)\n",
    "    return df\n",
    "\n",
    "overviews = {}\n",
    "overviews2 = {} # only when predicted by 2+ tools\n",
    "for d in os.listdir():\n",
    "    try:\n",
    "        overview = get_overview(d)\n",
    "    except:\n",
    "        print(d)\n",
    "        \n",
    "    overviews[d] = remove_HMMER_bounds(overview)\n",
    "    overviews2[d] = overview[overview['#ofTools'] > 1]\n"
   ]
  },
  {
   "cell_type": "code",
   "execution_count": 32,
   "metadata": {},
   "outputs": [
    {
     "data": {
      "text/html": [
       "<div>\n",
       "<style scoped>\n",
       "    .dataframe tbody tr th:only-of-type {\n",
       "        vertical-align: middle;\n",
       "    }\n",
       "\n",
       "    .dataframe tbody tr th {\n",
       "        vertical-align: top;\n",
       "    }\n",
       "\n",
       "    .dataframe thead th {\n",
       "        text-align: right;\n",
       "    }\n",
       "</style>\n",
       "<table border=\"1\" class=\"dataframe\">\n",
       "  <thead>\n",
       "    <tr style=\"text-align: right;\">\n",
       "      <th></th>\n",
       "      <th>Gene ID</th>\n",
       "      <th>HMMER</th>\n",
       "      <th>Hotpep</th>\n",
       "      <th>DIAMOND</th>\n",
       "      <th>Signalp</th>\n",
       "      <th>#ofTools</th>\n",
       "    </tr>\n",
       "  </thead>\n",
       "  <tbody>\n",
       "    <tr>\n",
       "      <th>0</th>\n",
       "      <td>2806905296</td>\n",
       "      <td>GT9</td>\n",
       "      <td>GT9</td>\n",
       "      <td>N</td>\n",
       "      <td>N</td>\n",
       "      <td>2</td>\n",
       "    </tr>\n",
       "    <tr>\n",
       "      <th>1</th>\n",
       "      <td>2806905402</td>\n",
       "      <td>CE11</td>\n",
       "      <td>CE11</td>\n",
       "      <td>CE11</td>\n",
       "      <td>N</td>\n",
       "      <td>3</td>\n",
       "    </tr>\n",
       "    <tr>\n",
       "      <th>2</th>\n",
       "      <td>2806905414</td>\n",
       "      <td>AA7</td>\n",
       "      <td>N</td>\n",
       "      <td>N</td>\n",
       "      <td>N</td>\n",
       "      <td>1</td>\n",
       "    </tr>\n",
       "    <tr>\n",
       "      <th>3</th>\n",
       "      <td>2806905416</td>\n",
       "      <td>GT30</td>\n",
       "      <td>GT30</td>\n",
       "      <td>GT30</td>\n",
       "      <td>N</td>\n",
       "      <td>3</td>\n",
       "    </tr>\n",
       "    <tr>\n",
       "      <th>4</th>\n",
       "      <td>2806905450</td>\n",
       "      <td>GH73</td>\n",
       "      <td>GH73+CBM50</td>\n",
       "      <td>N</td>\n",
       "      <td>N</td>\n",
       "      <td>2</td>\n",
       "    </tr>\n",
       "    <tr>\n",
       "      <th>...</th>\n",
       "      <td>...</td>\n",
       "      <td>...</td>\n",
       "      <td>...</td>\n",
       "      <td>...</td>\n",
       "      <td>...</td>\n",
       "      <td>...</td>\n",
       "    </tr>\n",
       "    <tr>\n",
       "      <th>112</th>\n",
       "      <td>2806908833</td>\n",
       "      <td>N</td>\n",
       "      <td>N</td>\n",
       "      <td>GH0</td>\n",
       "      <td>N</td>\n",
       "      <td>1</td>\n",
       "    </tr>\n",
       "    <tr>\n",
       "      <th>113</th>\n",
       "      <td>2806909115</td>\n",
       "      <td>N</td>\n",
       "      <td>N</td>\n",
       "      <td>CBM73</td>\n",
       "      <td>N</td>\n",
       "      <td>1</td>\n",
       "    </tr>\n",
       "    <tr>\n",
       "      <th>114</th>\n",
       "      <td>2806909327</td>\n",
       "      <td>N</td>\n",
       "      <td>N</td>\n",
       "      <td>GH20</td>\n",
       "      <td>N</td>\n",
       "      <td>1</td>\n",
       "    </tr>\n",
       "    <tr>\n",
       "      <th>115</th>\n",
       "      <td>2806909717</td>\n",
       "      <td>N</td>\n",
       "      <td>N</td>\n",
       "      <td>GH6</td>\n",
       "      <td>N</td>\n",
       "      <td>1</td>\n",
       "    </tr>\n",
       "    <tr>\n",
       "      <th>116</th>\n",
       "      <td>2806909734</td>\n",
       "      <td>N</td>\n",
       "      <td>N</td>\n",
       "      <td>AA1</td>\n",
       "      <td>N</td>\n",
       "      <td>1</td>\n",
       "    </tr>\n",
       "  </tbody>\n",
       "</table>\n",
       "<p>117 rows × 6 columns</p>\n",
       "</div>"
      ],
      "text/plain": [
       "        Gene ID HMMER      Hotpep DIAMOND Signalp  #ofTools\n",
       "0    2806905296   GT9         GT9       N       N         2\n",
       "1    2806905402  CE11        CE11    CE11       N         3\n",
       "2    2806905414   AA7           N       N       N         1\n",
       "3    2806905416  GT30        GT30    GT30       N         3\n",
       "4    2806905450  GH73  GH73+CBM50       N       N         2\n",
       "..          ...   ...         ...     ...     ...       ...\n",
       "112  2806908833     N           N     GH0       N         1\n",
       "113  2806909115     N           N   CBM73       N         1\n",
       "114  2806909327     N           N    GH20       N         1\n",
       "115  2806909717     N           N     GH6       N         1\n",
       "116  2806909734     N           N     AA1       N         1\n",
       "\n",
       "[117 rows x 6 columns]"
      ]
     },
     "execution_count": 32,
     "metadata": {},
     "output_type": "execute_result"
    }
   ],
   "source": [
    "overviews['2806310609']"
   ]
  },
  {
   "cell_type": "code",
   "execution_count": 66,
   "metadata": {},
   "outputs": [
    {
     "name": "stdout",
     "output_type": "stream",
     "text": [
      "2\n",
      "2\n",
      "1\n"
     ]
    }
   ],
   "source": [
    "def decide_families(row):\n",
    "    fams = [row['HMMER'].iloc[0], row['Hotpep'].iloc[0], row['DIAMOND'].iloc[0]]\n",
    "    \n",
    "    tally = list(fams)\n",
    "    for c in fams:\n",
    "        if c == 'N':\n",
    "            tally.remove(c)\n",
    "        if '+' in c:\n",
    "            tally.remove(c)\n",
    "            tally = tally + c.split('+')\n",
    "            \n",
    "    families = set()\n",
    "    for f in tally:\n",
    "        if tally.count(f) > 1:\n",
    "\n",
    "decide_families(overviews['2806310609'].iloc[[4]])\n",
    "    "
   ]
  },
  {
   "cell_type": "code",
   "execution_count": null,
   "metadata": {},
   "outputs": [],
   "source": []
  }
 ],
 "metadata": {
  "kernelspec": {
   "display_name": "Python 3",
   "language": "python",
   "name": "python3"
  },
  "language_info": {
   "codemirror_mode": {
    "name": "ipython",
    "version": 3
   },
   "file_extension": ".py",
   "mimetype": "text/x-python",
   "name": "python",
   "nbconvert_exporter": "python",
   "pygments_lexer": "ipython3",
   "version": "3.6.12"
  }
 },
 "nbformat": 4,
 "nbformat_minor": 4
}
