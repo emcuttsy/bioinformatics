{
 "cells": [
  {
   "cell_type": "code",
   "execution_count": 1,
   "metadata": {},
   "outputs": [],
   "source": [
    "import os, shutil, gzip\n",
    "import csv"
   ]
  },
  {
   "cell_type": "markdown",
   "metadata": {},
   "source": [
    "# PULPy Helper\n",
    "\n",
    "This notebook is intended to help streamline working with PULpy. Using it you can:\n",
    "\n",
    "* rename input files according to PULpy's requirements\n",
    "* move input files from a provided directory to PULpy's input subdirectories\n",
    "* clear the PULpy working directory of input and output files\n",
    "* export input and output files from the PULpy working directory\n",
    "* run PULpy"
   ]
  },
  {
   "cell_type": "markdown",
   "metadata": {},
   "source": [
    "### Directories\n",
    "Provide the notebook with your PULpy working directory and the paths to your input and output directories, if relevant."
   ]
  },
  {
   "cell_type": "code",
   "execution_count": 3,
   "metadata": {},
   "outputs": [],
   "source": [
    "pulpyd = '/home/ecutts/PULpy/' #absolute path to PULpy directory\n",
    "idir = '/home/ecutts/Bacteroidetes/MAGs/' # absolute path to input directory\n",
    "odir = '/home/ecutts/Bacteroidetes/PULs_MAGs' # absolute path to output directory"
   ]
  },
  {
   "cell_type": "markdown",
   "metadata": {},
   "source": [
    "# Copy results & inputs to export directory\n",
    "This cell will copy the results and input files currently in the PULpy working directory to an export directory (`odir`, defined in the 2nd cell). \n",
    "\n",
    "### Flat output or subdirectories?\n",
    "Set `flat = True` to copy all files to a flat directory. Set `flat = False` to create subdirectories in the output directory for each genome represented in the PULpy working directory. If you want to copy your results to a new directory preserving PULpy's default subdirectory organization (i.e. directories for pfam, dbcan, feature_table, puls, etc.), you can simply run the following command in your terminal:\n",
    "\n",
    "```\n",
    "$ cp -r genomes proteins pfam dbcan feature_table ncbi_feature_table puls OUTPUT_DIR\n",
    "\n",
    "```\n",
    "\n",
    "**Important: If genome subdirectories will be constructed based on the contents of the `puls` directory.** Files associated with genomes not represented by files in `puls` won't be copied if `flat = False`. "
   ]
  },
  {
   "cell_type": "code",
   "execution_count": 9,
   "metadata": {},
   "outputs": [],
   "source": [
    "flat = False\n",
    "\n",
    "id_map = {'genomes': '_genomic.fna.gz', 'proteins': '_protein.faa', 'puls': '.puls',\\\n",
    "         'dbcan': '.out', 'feature_table': '_ft.txt', 'ncbi_feature_table': '_feature_table.txt',\\\n",
    "         'pfam': '.pfam'}\n",
    "\n",
    "os.chdir(pulpyd)\n",
    "\n",
    "def get_idd(f, d):\n",
    "    if f.endswith('_prodigal.gff'):\n",
    "        idd = f.split('_prodigal.gff')[0]\n",
    "    elif f.endswith('.gff'):\n",
    "        idd = f.split('.gff')[0]\n",
    "    else:\n",
    "        idd = f.split(id_map[d])[0]\n",
    "    return idd\n",
    "        \n",
    "for d in id_map.keys():\n",
    "    for f in os.listdir(d):\n",
    "        idd = get_idd(f, d)\n",
    "        if flat:\n",
    "            shutil.copy(os.path.join(d, f), os.path.join(odir, f))\n",
    "        else:\n",
    "            dest = os.path.join(odir, idd)\n",
    "            if not os.path.exists(dest):\n",
    "                os.makedirs(dest)\n",
    "            shutil.copy(os.path.join(d, f), os.path.join(dest, f))"
   ]
  },
  {
   "cell_type": "markdown",
   "metadata": {},
   "source": [
    "# Prep an input directory\n",
    "\n",
    "Run the following cells to prepare a directory of input files for analysis by PULpy. The files will be copied to the appropriate PULpy input directories and renamed according to PULpy's naming conventions. You can choose to clear pre-existing input and output files within the PULpy working directory or to simply add your input files. The program identifies files to move by looking for .fna or .fna.gz files, which are required by PULpy even if using annotations.\n",
    "\n",
    "### Input directory requirements\n",
    "Your input directory should be either (1) a directory of directories, with each directory containing the files associated with a single genome or (2) a flat directory containing all of the files to be input. "
   ]
  },
  {
   "cell_type": "code",
   "execution_count": 6,
   "metadata": {},
   "outputs": [],
   "source": [
    "os.chdir(idir)\n",
    "\n",
    "dd = False # Is the directory a directory of directories?\n",
    "for f in os.listdir():\n",
    "    if not os.path.isfile(f):\n",
    "        dd = True\n",
    "\n",
    "def find_fnas(d):\n",
    "    fnas = {}\n",
    "    for f in os.listdir(d):\n",
    "        split = f.split('.')[1] # splits used because IMG downloads use \".genes.fna\" as well as \".fna\"\n",
    "        if f.endswith('.fna.gz'): # favor .fna.gz files over .fna\n",
    "            idd = f.split('.fna.gz')[0]\n",
    "            fnas[idd] = f\n",
    "        elif split == 'fna':\n",
    "            idd = f.split('.fna')[0]\n",
    "            fnas[idd] = f\n",
    "    return fnas\n",
    "        \n",
    "def find_files(d, ids):\n",
    "    gffs = {}\n",
    "    faas = {}\n",
    "    for f in os.listdir(d):\n",
    "        idd = f.split('.')[0]\n",
    "        if idd in ids:\n",
    "            if f.endswith('.gff'):\n",
    "                gffs[idd] = f\n",
    "            elif f.endswith('.faa'): #IMG protein fastas end in .genes.faa, this may be changed for others\n",
    "                faas[idd] = f\n",
    "    return gffs, faas\n",
    "\n",
    "\n",
    "# get list of files to move (relative paths to idir)\n",
    "if dd == False:\n",
    "    fnas = find_fnas(idir)\n",
    "    ids = fnas.keys()\n",
    "    files = dict.fromkeys(ids)\n",
    "    found  = find_files(idir, ids)\n",
    "    for idd in files.keys():\n",
    "        files[idd] = [fnas[idd], found[0][idd],found[1][idd]]\n",
    "    \n",
    "else:\n",
    "    files = {}\n",
    "    \n",
    "    for d in os.listdir():\n",
    "        fna = find_fnas(d)\n",
    "        idd = list(fna.keys())[0]\n",
    "        files[idd] = [d + '/' + f for f in fna.values()] # add .fna to file list\n",
    "        \n",
    "        found = find_files(d, idd)\n",
    "        files[idd].append(d + '/' + found[0][idd])\n",
    "        files[idd].append(d + '/' + found[1][idd])\n",
    "    \n",
    "for idd in files.keys():\n",
    "    if not os.path.exists(os.path.join(pulpyd, 'genomes/')):\n",
    "        os.makedirs(os.path.join(pulpyd, 'genomes/'))\n",
    "    if not os.path.exists(os.path.join(pulpyd, 'proteins/')):\n",
    "        os.makedirs(os.path.join(pulpyd, 'proteins/'))\n",
    "    \n",
    "    arr = files[idd]\n",
    "    if arr[0].endswith('.fna.gz'):\n",
    "        shutil.copy(arr[0], os.path.join(pulpyd, 'genomes/' + idd + '_genomic.fna.gz'))\n",
    "    else: # if a .fna file was provided, then compress to .fna.gz\n",
    "        with open(arr[0], 'rb') as f_in:\n",
    "            with gzip.open(os.path.join(pulpyd, 'genomes/' + idd + '_genomic.fna.gz'), 'wb') as f_out:\n",
    "                shutil.copyfileobj(f_in, f_out)\n",
    "    shutil.copy(arr[2], os.path.join(pulpyd, 'proteins/' + idd + '_protein.faa'))\n",
    "    shutil.copy(arr[1], os.path.join(pulpyd, 'proteins/' + idd + '.gff'))"
   ]
  },
  {
   "cell_type": "markdown",
   "metadata": {},
   "source": [
    "# Clear PULpy of inputs and outputs\n",
    "You can run the cells below if you want to remove your PULpy inputs and outputs. "
   ]
  },
  {
   "cell_type": "code",
   "execution_count": null,
   "metadata": {},
   "outputs": [],
   "source": [
    "# SAFETY SWITCH: You must switch clear to True if you want to clear your PULpy directory\n",
    "# Don't accidentally delete your data!\n",
    "\n",
    "clear = False "
   ]
  },
  {
   "cell_type": "code",
   "execution_count": null,
   "metadata": {},
   "outputs": [],
   "source": [
    "def cleardir(d):\n",
    "    for filename in os.listdir(d):\n",
    "        filepath = os.path.join(d, filename)\n",
    "        os.remove(filepath)\n",
    "\n",
    "def clearPULpy(pulpyd):\n",
    "    clear_dirs = ['dbcan', 'pfam', 'feature_table', 'genomes', 'proteins', 'puls']\n",
    "    os.chdir(pulpyd)\n",
    "    for d in os.listdir():\n",
    "        if d in clear_dirs:\n",
    "            cleardir(d)\n",
    "\n",
    "if clear: #if clear is True, then the PULpy output directories will be cleared\n",
    "    clearPULpy(pulpyd)"
   ]
  }
 ],
 "metadata": {
  "kernelspec": {
   "display_name": "Python 3",
   "language": "python",
   "name": "python3"
  },
  "language_info": {
   "codemirror_mode": {
    "name": "ipython",
    "version": 3
   },
   "file_extension": ".py",
   "mimetype": "text/x-python",
   "name": "python",
   "nbconvert_exporter": "python",
   "pygments_lexer": "ipython3",
   "version": "3.6.12"
  }
 },
 "nbformat": 4,
 "nbformat_minor": 4
}
