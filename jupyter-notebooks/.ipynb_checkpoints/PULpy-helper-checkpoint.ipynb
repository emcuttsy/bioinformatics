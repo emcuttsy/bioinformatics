{
 "cells": [
  {
   "cell_type": "markdown",
   "metadata": {},
   "source": [
    "# PULPy Genome Prep\n",
    "\n",
    "PULpy was written specifically to process genomes downloaded from NCBI, and expects them in a very specific format. In order to use PULpy with genomes downloaded from another source, the input files must first be appropriately prepared. This notebook can help prepare non-NCBI genomes for use with PULpy in the following ways:\n",
    "\n",
    "* renaming files according to PULpy's requirements\n",
    "* moving files from a provided directory to PULpy's input subdirectories\n",
    "* converting the popular and widely-available .gff feature table format to the NCBI feature table format required by PULpy"
   ]
  },
  {
   "cell_type": "markdown",
   "metadata": {},
   "source": [
    "## Directory settings\n",
    "Edit the cell below to direct this notebook to the files you would like to prep. You can provide a directory containing either: \n",
    "1. all of the .faa, .gff, and/or .fna files for all of the genomes you would like to prep, or...\n",
    "2. directories, each corresponding to a genome and containing the .faa, .gff, and/or .fna files corresponding to those genomes."
   ]
  },
  {
   "cell_type": "code",
   "execution_count": null,
   "metadata": {},
   "outputs": [],
   "source": [
    "wd = '' # absolute path to working directory\n"
   ]
  },
  {
   "cell_type": "markdown",
   "metadata": {},
   "source": [
    "## Convert .gff to NCBI feature table\n",
    "\n",
    "The .gff feature table format is widely available from public sequence databases (including NCBI) and is a common output of gene prediction programs such as Prodigal. Unfortunately, PULpy requires input in the less typical NCBI feature table format. The cells in this section can be used to convert .gff feature tables to NCBI-format feature tables that can be used wtih PULpy.\n",
    "\n",
    "### To run:\n",
    "1. Edit the first cell with "
   ]
  }
 ],
 "metadata": {
  "kernelspec": {
   "display_name": "Python 3",
   "language": "python",
   "name": "python3"
  },
  "language_info": {
   "codemirror_mode": {
    "name": "ipython",
    "version": 3
   },
   "file_extension": ".py",
   "mimetype": "text/x-python",
   "name": "python",
   "nbconvert_exporter": "python",
   "pygments_lexer": "ipython3",
   "version": "3.6.12"
  }
 },
 "nbformat": 4,
 "nbformat_minor": 4
}
